{
 "cells": [
  {
   "cell_type": "markdown",
   "id": "5fc6679e",
   "metadata": {},
   "source": [
    "# Extracción de datos\n",
    "\n",
    "Este archivo realiza la extracción de datos via API del portal de datos de la Ciudad de México."
   ]
  },
  {
   "cell_type": "code",
   "execution_count": 1,
   "id": "ebc7d7a3",
   "metadata": {},
   "outputs": [],
   "source": [
    "from datosgobmx import client\n",
    "import numpy\n",
    "import pandas as pd\n",
    "import os\n",
    "import json"
   ]
  },
  {
   "cell_type": "code",
   "execution_count": 2,
   "id": "2ed63cb6",
   "metadata": {},
   "outputs": [],
   "source": [
    "parametros_request = client.makeCall('sinaica-parametros')\n",
    "\n",
    "valid_params = []\n",
    "\n",
    "for v in parametros_request['results']:\n",
    "    aux = pd.DataFrame.from_dict(v, orient='index').T\n",
    "    valid_params.append(aux)\n",
    "\n",
    "valid_params = pd.concat(valid_params, ignore_index=True)\n",
    "valid_params['date-insert'] = pd.to_datetime(valid_params['date-insert'])"
   ]
  }
 ],
 "metadata": {
  "kernelspec": {
   "display_name": ".venv",
   "language": "python",
   "name": "python3"
  },
  "language_info": {
   "codemirror_mode": {
    "name": "ipython",
    "version": 3
   },
   "file_extension": ".py",
   "mimetype": "text/x-python",
   "name": "python",
   "nbconvert_exporter": "python",
   "pygments_lexer": "ipython3",
   "version": "3.12.10"
  }
 },
 "nbformat": 4,
 "nbformat_minor": 5
}
