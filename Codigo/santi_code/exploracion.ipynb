{
 "cells": [
  {
   "cell_type": "code",
   "execution_count": 176,
   "id": "54814962",
   "metadata": {},
   "outputs": [],
   "source": [
    "import pandas as pd\n",
    "import csv"
   ]
  },
  {
   "cell_type": "code",
   "execution_count": 6,
   "id": "7ff637a0",
   "metadata": {},
   "outputs": [],
   "source": [
    "df = pd.read_csv('/Users/santiagoolvera/Desktop/ITAM/pols_pub2/HoyNoCircula/Datos/raw/contaminantes/contaminantes_2024.csv', encoding='latin1-')"
   ]
  },
  {
   "cell_type": "code",
   "execution_count": 7,
   "id": "79248b48",
   "metadata": {},
   "outputs": [
    {
     "data": {
      "application/vnd.microsoft.datawrangler.viewer.v0+json": {
       "columns": [
        {
         "name": "index",
         "rawType": "int64",
         "type": "integer"
        },
        {
         "name": "date",
         "rawType": "object",
         "type": "string"
        },
        {
         "name": "id_station",
         "rawType": "object",
         "type": "string"
        },
        {
         "name": "id_parameter",
         "rawType": "object",
         "type": "string"
        },
        {
         "name": "value",
         "rawType": "float64",
         "type": "float"
        },
        {
         "name": "unit",
         "rawType": "int64",
         "type": "integer"
        }
       ],
       "conversionMethod": "pd.DataFrame",
       "ref": "886bf357-a148-40eb-9078-a0784d6f89a3",
       "rows": [
        [
         "0",
         "2024-01-01 01:00:00",
         "ACO",
         "CO",
         null,
         "15"
        ],
        [
         "1",
         "2024-01-01 01:00:00",
         "ACO",
         "NO",
         null,
         "1"
        ],
        [
         "2",
         "2024-01-01 01:00:00",
         "ACO",
         "NO2",
         null,
         "1"
        ],
        [
         "3",
         "2024-01-01 01:00:00",
         "ACO",
         "NOX",
         null,
         "1"
        ],
        [
         "4",
         "2024-01-01 01:00:00",
         "ACO",
         "O3",
         null,
         "1"
        ],
        [
         "5",
         "2024-01-01 01:00:00",
         "ACO",
         "PM10",
         null,
         "2"
        ],
        [
         "6",
         "2024-01-01 01:00:00",
         "ACO",
         "SO2",
         null,
         "1"
        ],
        [
         "7",
         "2024-01-01 01:00:00",
         "AJM",
         "CO",
         "0.23",
         "15"
        ],
        [
         "8",
         "2024-01-01 01:00:00",
         "AJM",
         "NO",
         "0.0",
         "1"
        ],
        [
         "9",
         "2024-01-01 01:00:00",
         "AJM",
         "NO2",
         "10.0",
         "1"
        ],
        [
         "10",
         "2024-01-01 01:00:00",
         "AJM",
         "NOX",
         "10.0",
         "1"
        ],
        [
         "11",
         "2024-01-01 01:00:00",
         "AJM",
         "O3",
         "43.0",
         "1"
        ],
        [
         "12",
         "2024-01-01 01:00:00",
         "AJM",
         "PM10",
         "28.0",
         "2"
        ],
        [
         "13",
         "2024-01-01 01:00:00",
         "AJM",
         "PM2.5",
         "21.0",
         "2"
        ],
        [
         "14",
         "2024-01-01 01:00:00",
         "AJM",
         "PMCO",
         "7.0",
         "2"
        ],
        [
         "15",
         "2024-01-01 01:00:00",
         "AJM",
         "SO2",
         "5.0",
         "1"
        ],
        [
         "16",
         "2024-01-01 01:00:00",
         "ATI",
         "CO",
         "0.31",
         "15"
        ],
        [
         "17",
         "2024-01-01 01:00:00",
         "ATI",
         "NO",
         "1.0",
         "1"
        ],
        [
         "18",
         "2024-01-01 01:00:00",
         "ATI",
         "NO2",
         "13.0",
         "1"
        ],
        [
         "19",
         "2024-01-01 01:00:00",
         "ATI",
         "NOX",
         "14.0",
         "1"
        ],
        [
         "20",
         "2024-01-01 01:00:00",
         "ATI",
         "O3",
         "20.0",
         "1"
        ],
        [
         "21",
         "2024-01-01 01:00:00",
         "ATI",
         "PM10",
         "48.0",
         "2"
        ],
        [
         "22",
         "2024-01-01 01:00:00",
         "ATI",
         "SO2",
         "5.0",
         "1"
        ],
        [
         "23",
         "2024-01-01 01:00:00",
         "BJU",
         "CO",
         "1.18",
         "15"
        ],
        [
         "24",
         "2024-01-01 01:00:00",
         "BJU",
         "NO",
         null,
         "1"
        ],
        [
         "25",
         "2024-01-01 01:00:00",
         "BJU",
         "NO2",
         "43.0",
         "1"
        ],
        [
         "26",
         "2024-01-01 01:00:00",
         "BJU",
         "NOX",
         null,
         "1"
        ],
        [
         "27",
         "2024-01-01 01:00:00",
         "BJU",
         "O3",
         "3.0",
         "1"
        ],
        [
         "28",
         "2024-01-01 01:00:00",
         "BJU",
         "PM10",
         "70.0",
         "2"
        ],
        [
         "29",
         "2024-01-01 01:00:00",
         "BJU",
         "PM2.5",
         "53.0",
         "2"
        ],
        [
         "30",
         "2024-01-01 01:00:00",
         "BJU",
         "PMCO",
         "17.0",
         "2"
        ],
        [
         "31",
         "2024-01-01 01:00:00",
         "BJU",
         "SO2",
         null,
         "1"
        ],
        [
         "32",
         "2024-01-01 01:00:00",
         "CAM",
         "CO",
         "1.15",
         "15"
        ],
        [
         "33",
         "2024-01-01 01:00:00",
         "CAM",
         "NO",
         "4.0",
         "1"
        ],
        [
         "34",
         "2024-01-01 01:00:00",
         "CAM",
         "NO2",
         "41.0",
         "1"
        ],
        [
         "35",
         "2024-01-01 01:00:00",
         "CAM",
         "NOX",
         "45.0",
         "1"
        ],
        [
         "36",
         "2024-01-01 01:00:00",
         "CAM",
         "O3",
         "5.0",
         "1"
        ],
        [
         "37",
         "2024-01-01 01:00:00",
         "CAM",
         "PM10",
         "84.0",
         "2"
        ],
        [
         "38",
         "2024-01-01 01:00:00",
         "CAM",
         "PM2.5",
         "66.0",
         "2"
        ],
        [
         "39",
         "2024-01-01 01:00:00",
         "CAM",
         "PMCO",
         "18.0",
         "2"
        ],
        [
         "40",
         "2024-01-01 01:00:00",
         "CAM",
         "SO2",
         "7.0",
         "1"
        ],
        [
         "41",
         "2024-01-01 01:00:00",
         "CCA",
         "CO",
         "0.88",
         "15"
        ],
        [
         "42",
         "2024-01-01 01:00:00",
         "CCA",
         "NO",
         "7.0",
         "1"
        ],
        [
         "43",
         "2024-01-01 01:00:00",
         "CCA",
         "NO2",
         "31.0",
         "1"
        ],
        [
         "44",
         "2024-01-01 01:00:00",
         "CCA",
         "NOX",
         "38.0",
         "1"
        ],
        [
         "45",
         "2024-01-01 01:00:00",
         "CCA",
         "O3",
         "9.0",
         "1"
        ],
        [
         "46",
         "2024-01-01 01:00:00",
         "CCA",
         "PM2.5",
         "44.0",
         "2"
        ],
        [
         "47",
         "2024-01-01 01:00:00",
         "CCA",
         "SO2",
         "3.0",
         "1"
        ],
        [
         "48",
         "2024-01-01 01:00:00",
         "CHO",
         "CO",
         "0.59",
         "15"
        ],
        [
         "49",
         "2024-01-01 01:00:00",
         "CHO",
         "NO",
         "3.0",
         "1"
        ]
       ],
       "shape": {
        "columns": 5,
        "rows": 2430675
       }
      },
      "text/html": [
       "<div>\n",
       "<style scoped>\n",
       "    .dataframe tbody tr th:only-of-type {\n",
       "        vertical-align: middle;\n",
       "    }\n",
       "\n",
       "    .dataframe tbody tr th {\n",
       "        vertical-align: top;\n",
       "    }\n",
       "\n",
       "    .dataframe thead th {\n",
       "        text-align: right;\n",
       "    }\n",
       "</style>\n",
       "<table border=\"1\" class=\"dataframe\">\n",
       "  <thead>\n",
       "    <tr style=\"text-align: right;\">\n",
       "      <th></th>\n",
       "      <th>date</th>\n",
       "      <th>id_station</th>\n",
       "      <th>id_parameter</th>\n",
       "      <th>value</th>\n",
       "      <th>unit</th>\n",
       "    </tr>\n",
       "  </thead>\n",
       "  <tbody>\n",
       "    <tr>\n",
       "      <th>0</th>\n",
       "      <td>2024-01-01 01:00:00</td>\n",
       "      <td>ACO</td>\n",
       "      <td>CO</td>\n",
       "      <td>NaN</td>\n",
       "      <td>15</td>\n",
       "    </tr>\n",
       "    <tr>\n",
       "      <th>1</th>\n",
       "      <td>2024-01-01 01:00:00</td>\n",
       "      <td>ACO</td>\n",
       "      <td>NO</td>\n",
       "      <td>NaN</td>\n",
       "      <td>1</td>\n",
       "    </tr>\n",
       "    <tr>\n",
       "      <th>2</th>\n",
       "      <td>2024-01-01 01:00:00</td>\n",
       "      <td>ACO</td>\n",
       "      <td>NO2</td>\n",
       "      <td>NaN</td>\n",
       "      <td>1</td>\n",
       "    </tr>\n",
       "    <tr>\n",
       "      <th>3</th>\n",
       "      <td>2024-01-01 01:00:00</td>\n",
       "      <td>ACO</td>\n",
       "      <td>NOX</td>\n",
       "      <td>NaN</td>\n",
       "      <td>1</td>\n",
       "    </tr>\n",
       "    <tr>\n",
       "      <th>4</th>\n",
       "      <td>2024-01-01 01:00:00</td>\n",
       "      <td>ACO</td>\n",
       "      <td>O3</td>\n",
       "      <td>NaN</td>\n",
       "      <td>1</td>\n",
       "    </tr>\n",
       "    <tr>\n",
       "      <th>...</th>\n",
       "      <td>...</td>\n",
       "      <td>...</td>\n",
       "      <td>...</td>\n",
       "      <td>...</td>\n",
       "      <td>...</td>\n",
       "    </tr>\n",
       "    <tr>\n",
       "      <th>2430670</th>\n",
       "      <td>2024-12-31 23:00:00</td>\n",
       "      <td>GAM</td>\n",
       "      <td>NO2</td>\n",
       "      <td>NaN</td>\n",
       "      <td>1</td>\n",
       "    </tr>\n",
       "    <tr>\n",
       "      <th>2430671</th>\n",
       "      <td>2024-12-31 23:00:00</td>\n",
       "      <td>GAM</td>\n",
       "      <td>O3</td>\n",
       "      <td>NaN</td>\n",
       "      <td>1</td>\n",
       "    </tr>\n",
       "    <tr>\n",
       "      <th>2430672</th>\n",
       "      <td>2024-12-31 23:00:00</td>\n",
       "      <td>GAM</td>\n",
       "      <td>PM10</td>\n",
       "      <td>NaN</td>\n",
       "      <td>2</td>\n",
       "    </tr>\n",
       "    <tr>\n",
       "      <th>2430673</th>\n",
       "      <td>2024-12-31 23:00:00</td>\n",
       "      <td>GAM</td>\n",
       "      <td>PM2.5</td>\n",
       "      <td>NaN</td>\n",
       "      <td>2</td>\n",
       "    </tr>\n",
       "    <tr>\n",
       "      <th>2430674</th>\n",
       "      <td>2024-12-31 23:00:00</td>\n",
       "      <td>GAM</td>\n",
       "      <td>PMCO</td>\n",
       "      <td>NaN</td>\n",
       "      <td>2</td>\n",
       "    </tr>\n",
       "  </tbody>\n",
       "</table>\n",
       "<p>2430675 rows × 5 columns</p>\n",
       "</div>"
      ],
      "text/plain": [
       "                        date id_station id_parameter  value  unit\n",
       "0        2024-01-01 01:00:00        ACO           CO    NaN    15\n",
       "1        2024-01-01 01:00:00        ACO           NO    NaN     1\n",
       "2        2024-01-01 01:00:00        ACO          NO2    NaN     1\n",
       "3        2024-01-01 01:00:00        ACO          NOX    NaN     1\n",
       "4        2024-01-01 01:00:00        ACO           O3    NaN     1\n",
       "...                      ...        ...          ...    ...   ...\n",
       "2430670  2024-12-31 23:00:00        GAM          NO2    NaN     1\n",
       "2430671  2024-12-31 23:00:00        GAM           O3    NaN     1\n",
       "2430672  2024-12-31 23:00:00        GAM         PM10    NaN     2\n",
       "2430673  2024-12-31 23:00:00        GAM        PM2.5    NaN     2\n",
       "2430674  2024-12-31 23:00:00        GAM         PMCO    NaN     2\n",
       "\n",
       "[2430675 rows x 5 columns]"
      ]
     },
     "execution_count": 7,
     "metadata": {},
     "output_type": "execute_result"
    }
   ],
   "source": [
    "df"
   ]
  },
  {
   "cell_type": "code",
   "execution_count": 177,
   "id": "af45dd58",
   "metadata": {},
   "outputs": [],
   "source": [
    "df1= pd.read_csv('/Users/santiagoolvera/Desktop/ITAM/pols_pub2/HoyNoCircula/Datos/raw/contaminantes/contaminantes_2016.csv', encoding='latin-1')\n",
    "df2 = pd.read_csv('/Users/santiagoolvera/Desktop/ITAM/pols_pub2/HoyNoCircula/Datos/raw/contaminantes/contaminantes_2017.csv', encoding='latin-1')\n",
    "df3 = pd.read_csv('/Users/santiagoolvera/Desktop/ITAM/pols_pub2/HoyNoCircula/Datos/raw/contaminantes/contaminantes_2018.csv', encoding='latin-1')\n",
    "df4 = pd.read_csv('/Users/santiagoolvera/Desktop/ITAM/pols_pub2/HoyNoCircula/Datos/raw/contaminantes/contaminantes_2019.csv', encoding='latin-1')\n",
    "df5 = pd.read_csv('/Users/santiagoolvera/Desktop/ITAM/pols_pub2/HoyNoCircula/Datos/raw/contaminantes/contaminantes_2020.csv', encoding='latin-1')\n",
    "df6 = pd.read_csv('/Users/santiagoolvera/Desktop/ITAM/pols_pub2/HoyNoCircula/Datos/raw/contaminantes/contaminantes_2021.csv', encoding='latin-1')\n",
    "df7 = pd.read_csv('/Users/santiagoolvera/Desktop/ITAM/pols_pub2/HoyNoCircula/Datos/raw/contaminantes/contaminantes_2022.csv', encoding='latin-1')\n",
    "df8 = pd.read_csv('/Users/santiagoolvera/Desktop/ITAM/pols_pub2/HoyNoCircula/Datos/raw/contaminantes/contaminantes_2023.csv', encoding='latin-1')\n",
    "df9 = pd.read_csv('/Users/santiagoolvera/Desktop/ITAM/pols_pub2/HoyNoCircula/Datos/raw/contaminantes/contaminantes_2024.csv', encoding='latin-1')\n"
   ]
  },
  {
   "cell_type": "code",
   "execution_count": 178,
   "id": "2c613649",
   "metadata": {},
   "outputs": [],
   "source": [
    "## hacer un concat de los dataframes\n",
    "df = pd.concat([df1, df2, df3, df4, df5, df6], ignore_index=True)"
   ]
  },
  {
   "cell_type": "code",
   "execution_count": 179,
   "id": "e5f6a33f",
   "metadata": {},
   "outputs": [],
   "source": [
    "df['date'] =  df['date'].str.extract(r'(\\d{2}/\\d{2}/\\d{4})')"
   ]
  },
  {
   "cell_type": "code",
   "execution_count": 180,
   "id": "bdfd8b06",
   "metadata": {},
   "outputs": [],
   "source": [
    "##tengo date así 01/01/2016 01:00  quiero solo la fecha\n",
    "\n",
    "df7['date'] = pd.to_datetime(df7['date'])\n",
    "\n",
    "# Luego, extrae solo la parte de la fecha\n",
    "df7['date'] = df7['date'].dt.date\n",
    "\n",
    "df8['date'] = pd.to_datetime(df8['date'])\n",
    "\n",
    "# Luego, extrae solo la parte de la fecha\n",
    "df8['date'] = df8['date'].dt.date"
   ]
  },
  {
   "cell_type": "code",
   "execution_count": 181,
   "id": "eb8a3d97",
   "metadata": {},
   "outputs": [],
   "source": [
    "df9['date'] = pd.to_datetime(df9['date'], format='mixed')\n",
    "\n",
    "df9['date'] = df9['date'].dt.date"
   ]
  },
  {
   "cell_type": "code",
   "execution_count": 182,
   "id": "c9dad7ff",
   "metadata": {},
   "outputs": [],
   "source": [
    "##cambiar el df7, df8 y df9 el date de 2024-01-01 a 01/01/2024\n",
    "df7['date'] = pd.to_datetime(df7['date'], format='%Y-%m-%d').dt.strftime('%d/%m/%Y')\n",
    "df8['date'] = pd.to_datetime(df8['date'], format='%Y-%m-%d').dt.strftime('%d/%m/%Y')\n",
    "df9['date'] = pd.to_datetime(df9['date'], format='%Y-%m-%d').dt.strftime('%d/%m/%Y')\n"
   ]
  },
  {
   "cell_type": "code",
   "execution_count": 183,
   "id": "3587ed55",
   "metadata": {},
   "outputs": [],
   "source": [
    "df= pd.concat([df, df7, df8, df9], ignore_index=True)"
   ]
  },
  {
   "cell_type": "code",
   "execution_count": 186,
   "id": "eef138d6",
   "metadata": {},
   "outputs": [],
   "source": [
    "##agrupar por id_parameter y sacar max, min, mean, std, count\n",
    "aux= df.groupby(['id_parameter']).agg({'value': ['max', 'min', 'mean', 'std', 'count']}).reset_index()"
   ]
  },
  {
   "cell_type": "code",
   "execution_count": 188,
   "id": "3aaee9cf",
   "metadata": {},
   "outputs": [],
   "source": [
    "aux.columns = ['id_parameter', 'max', 'min', 'mean', 'std', 'count']"
   ]
  },
  {
   "cell_type": "code",
   "execution_count": 190,
   "id": "391a8e6f",
   "metadata": {},
   "outputs": [],
   "source": [
    "aux.to_csv('/Users/santiagoolvera/Desktop/ITAM/pols_pub2/HoyNoCircula/Datos/final/descriptiva_contaminantes.csv', index=False, encoding='latin-1')"
   ]
  },
  {
   "cell_type": "code",
   "execution_count": 202,
   "id": "14974fc9",
   "metadata": {},
   "outputs": [],
   "source": [
    "##redondear a 2 decimales todas las columnas\n",
    "aux['max'] = aux['max'].round(2)\n",
    "aux['min'] = aux['min'].round(2)\n",
    "aux['mean'] = aux['mean'].round(2)\n",
    "aux['std'] = aux['std'].round(2)\n",
    "aux['count'] = aux['count'].round(2)"
   ]
  },
  {
   "cell_type": "code",
   "execution_count": 203,
   "id": "330caf55",
   "metadata": {},
   "outputs": [
    {
     "data": {
      "application/vnd.microsoft.datawrangler.viewer.v0+json": {
       "columns": [
        {
         "name": "index",
         "rawType": "int64",
         "type": "integer"
        },
        {
         "name": "id_parameter",
         "rawType": "object",
         "type": "string"
        },
        {
         "name": "max",
         "rawType": "float64",
         "type": "float"
        },
        {
         "name": "min",
         "rawType": "float64",
         "type": "float"
        },
        {
         "name": "mean",
         "rawType": "float64",
         "type": "float"
        },
        {
         "name": "std",
         "rawType": "float64",
         "type": "float"
        },
        {
         "name": "count",
         "rawType": "int64",
         "type": "integer"
        }
       ],
       "conversionMethod": "pd.DataFrame",
       "ref": "576776be-d076-4497-a498-a4e1839a508a",
       "rows": [
        [
         "0",
         "CO",
         "10.0",
         "-0.04",
         "0.45",
         "0.4",
         "1807187"
        ],
        [
         "1",
         "NO",
         "688.0",
         "0.0",
         "13.96",
         "27.43",
         "1561090"
        ],
        [
         "2",
         "NO2",
         "150.0",
         "0.0",
         "22.54",
         "13.26",
         "1731570"
        ],
        [
         "3",
         "NOX",
         "755.0",
         "0.0",
         "36.89",
         "35.62",
         "1561111"
        ],
        [
         "4",
         "O3",
         "210.0",
         "0.0",
         "30.85",
         "26.56",
         "2100493"
        ],
        [
         "5",
         "PM10",
         "982.0",
         "1.0",
         "42.1",
         "29.12",
         "1262412"
        ],
        [
         "6",
         "PM2.5",
         "698.0",
         "1.0",
         "21.06",
         "14.14",
         "1071303"
        ],
        [
         "7",
         "PMCO",
         "763.0",
         "1.0",
         "19.51",
         "16.59",
         "686772"
        ],
        [
         "8",
         "SO2",
         "400.0",
         "0.0",
         "3.5",
         "7.09",
         "1841342"
        ]
       ],
       "shape": {
        "columns": 6,
        "rows": 9
       }
      },
      "text/html": [
       "<div>\n",
       "<style scoped>\n",
       "    .dataframe tbody tr th:only-of-type {\n",
       "        vertical-align: middle;\n",
       "    }\n",
       "\n",
       "    .dataframe tbody tr th {\n",
       "        vertical-align: top;\n",
       "    }\n",
       "\n",
       "    .dataframe thead th {\n",
       "        text-align: right;\n",
       "    }\n",
       "</style>\n",
       "<table border=\"1\" class=\"dataframe\">\n",
       "  <thead>\n",
       "    <tr style=\"text-align: right;\">\n",
       "      <th></th>\n",
       "      <th>id_parameter</th>\n",
       "      <th>max</th>\n",
       "      <th>min</th>\n",
       "      <th>mean</th>\n",
       "      <th>std</th>\n",
       "      <th>count</th>\n",
       "    </tr>\n",
       "  </thead>\n",
       "  <tbody>\n",
       "    <tr>\n",
       "      <th>0</th>\n",
       "      <td>CO</td>\n",
       "      <td>10.0</td>\n",
       "      <td>-0.04</td>\n",
       "      <td>0.45</td>\n",
       "      <td>0.40</td>\n",
       "      <td>1807187</td>\n",
       "    </tr>\n",
       "    <tr>\n",
       "      <th>1</th>\n",
       "      <td>NO</td>\n",
       "      <td>688.0</td>\n",
       "      <td>0.00</td>\n",
       "      <td>13.96</td>\n",
       "      <td>27.43</td>\n",
       "      <td>1561090</td>\n",
       "    </tr>\n",
       "    <tr>\n",
       "      <th>2</th>\n",
       "      <td>NO2</td>\n",
       "      <td>150.0</td>\n",
       "      <td>0.00</td>\n",
       "      <td>22.54</td>\n",
       "      <td>13.26</td>\n",
       "      <td>1731570</td>\n",
       "    </tr>\n",
       "    <tr>\n",
       "      <th>3</th>\n",
       "      <td>NOX</td>\n",
       "      <td>755.0</td>\n",
       "      <td>0.00</td>\n",
       "      <td>36.89</td>\n",
       "      <td>35.62</td>\n",
       "      <td>1561111</td>\n",
       "    </tr>\n",
       "    <tr>\n",
       "      <th>4</th>\n",
       "      <td>O3</td>\n",
       "      <td>210.0</td>\n",
       "      <td>0.00</td>\n",
       "      <td>30.85</td>\n",
       "      <td>26.56</td>\n",
       "      <td>2100493</td>\n",
       "    </tr>\n",
       "    <tr>\n",
       "      <th>5</th>\n",
       "      <td>PM10</td>\n",
       "      <td>982.0</td>\n",
       "      <td>1.00</td>\n",
       "      <td>42.10</td>\n",
       "      <td>29.12</td>\n",
       "      <td>1262412</td>\n",
       "    </tr>\n",
       "    <tr>\n",
       "      <th>6</th>\n",
       "      <td>PM2.5</td>\n",
       "      <td>698.0</td>\n",
       "      <td>1.00</td>\n",
       "      <td>21.06</td>\n",
       "      <td>14.14</td>\n",
       "      <td>1071303</td>\n",
       "    </tr>\n",
       "    <tr>\n",
       "      <th>7</th>\n",
       "      <td>PMCO</td>\n",
       "      <td>763.0</td>\n",
       "      <td>1.00</td>\n",
       "      <td>19.51</td>\n",
       "      <td>16.59</td>\n",
       "      <td>686772</td>\n",
       "    </tr>\n",
       "    <tr>\n",
       "      <th>8</th>\n",
       "      <td>SO2</td>\n",
       "      <td>400.0</td>\n",
       "      <td>0.00</td>\n",
       "      <td>3.50</td>\n",
       "      <td>7.09</td>\n",
       "      <td>1841342</td>\n",
       "    </tr>\n",
       "  </tbody>\n",
       "</table>\n",
       "</div>"
      ],
      "text/plain": [
       "  id_parameter    max   min   mean    std    count\n",
       "0           CO   10.0 -0.04   0.45   0.40  1807187\n",
       "1           NO  688.0  0.00  13.96  27.43  1561090\n",
       "2          NO2  150.0  0.00  22.54  13.26  1731570\n",
       "3          NOX  755.0  0.00  36.89  35.62  1561111\n",
       "4           O3  210.0  0.00  30.85  26.56  2100493\n",
       "5         PM10  982.0  1.00  42.10  29.12  1262412\n",
       "6        PM2.5  698.0  1.00  21.06  14.14  1071303\n",
       "7         PMCO  763.0  1.00  19.51  16.59   686772\n",
       "8          SO2  400.0  0.00   3.50   7.09  1841342"
      ]
     },
     "execution_count": 203,
     "metadata": {},
     "output_type": "execute_result"
    }
   ],
   "source": [
    "aux"
   ]
  },
  {
   "cell_type": "code",
   "execution_count": 135,
   "id": "eaa5f704",
   "metadata": {},
   "outputs": [],
   "source": [
    "##hacer un groupby de la fecha, el id_parameter y el value y sacar el max, min y mean\n",
    "df = df.groupby(['date', 'id_parameter']).agg({'value': ['max', 'min', 'mean']}).reset_index()"
   ]
  },
  {
   "cell_type": "code",
   "execution_count": 136,
   "id": "f3d1f6bf",
   "metadata": {},
   "outputs": [],
   "source": [
    "df.columns = ['date', 'id_parameter', 'max_contaminantes', 'min_contaminantes', 'mean_contaminantes']"
   ]
  },
  {
   "cell_type": "code",
   "execution_count": 137,
   "id": "3f4ac93d",
   "metadata": {},
   "outputs": [
    {
     "data": {
      "application/vnd.microsoft.datawrangler.viewer.v0+json": {
       "columns": [
        {
         "name": "index",
         "rawType": "int64",
         "type": "integer"
        },
        {
         "name": "date",
         "rawType": "object",
         "type": "string"
        },
        {
         "name": "id_parameter",
         "rawType": "object",
         "type": "string"
        },
        {
         "name": "max_contaminantes",
         "rawType": "float64",
         "type": "float"
        },
        {
         "name": "min_contaminantes",
         "rawType": "float64",
         "type": "float"
        },
        {
         "name": "mean_contaminantes",
         "rawType": "float64",
         "type": "float"
        }
       ],
       "conversionMethod": "pd.DataFrame",
       "ref": "4eb3fb52-4a5e-4901-8958-b282f77001d9",
       "rows": [
        [
         "0",
         "01/01/2016",
         "CO",
         "2.5",
         "0.2",
         "0.9622685185185185"
        ],
        [
         "1",
         "01/01/2016",
         "NO",
         "76.0",
         "0.0",
         "13.831140350877194"
        ],
        [
         "2",
         "01/01/2016",
         "NO2",
         "63.0",
         "6.0",
         "29.712719298245613"
        ],
        [
         "3",
         "01/01/2016",
         "NOX",
         "120.0",
         "6.0",
         "43.56798245614035"
        ],
        [
         "4",
         "01/01/2016",
         "O3",
         "133.0",
         "1.0",
         "33.471014492753625"
        ],
        [
         "5",
         "01/01/2016",
         "PM10",
         "511.0",
         "11.0",
         "115.33407079646018"
        ],
        [
         "6",
         "01/01/2016",
         "PM2.5",
         "232.0",
         "2.0",
         "86.90990990990991"
        ],
        [
         "7",
         "01/01/2016",
         "PMCO",
         "107.0",
         "8.0",
         "32.563380281690144"
        ],
        [
         "8",
         "01/01/2016",
         "SO2",
         "117.0",
         "1.0",
         "21.11764705882353"
        ],
        [
         "9",
         "01/01/2017",
         "CO",
         "2.8",
         "0.0",
         "0.7862776025236593"
        ],
        [
         "10",
         "01/01/2017",
         "NO",
         "109.0",
         "0.0",
         "10.64070796460177"
        ],
        [
         "11",
         "01/01/2017",
         "NO2",
         "65.0",
         "4.0",
         "23.246017699115043"
        ],
        [
         "12",
         "01/01/2017",
         "NOX",
         "163.0",
         "5.0",
         "33.861946902654864"
        ],
        [
         "13",
         "01/01/2017",
         "O3",
         "95.0",
         "1.0",
         "32.500627352572145"
        ],
        [
         "14",
         "01/01/2017",
         "PM10",
         "445.0",
         "12.0",
         "71.89390519187359"
        ],
        [
         "15",
         "01/01/2017",
         "PM2.5",
         "195.0",
         "1.0",
         "43.98866855524079"
        ],
        [
         "16",
         "01/01/2017",
         "PMCO",
         "227.0",
         "3.0",
         "19.229787234042554"
        ],
        [
         "17",
         "01/01/2017",
         "SO2",
         "15.0",
         "0.0",
         "2.3007299270072994"
        ],
        [
         "18",
         "01/01/2018",
         "CO",
         "2.7",
         "0.0",
         "0.37554744525547445"
        ],
        [
         "19",
         "01/01/2018",
         "NO",
         "54.0",
         "0.0",
         "4.7370517928286855"
        ],
        [
         "20",
         "01/01/2018",
         "NO2",
         "52.0",
         "2.0",
         "18.324701195219124"
        ],
        [
         "21",
         "01/01/2018",
         "NOX",
         "89.0",
         "3.0",
         "23.061752988047807"
        ],
        [
         "22",
         "01/01/2018",
         "O3",
         "91.0",
         "1.0",
         "27.958204334365327"
        ],
        [
         "23",
         "01/01/2018",
         "PM10",
         "249.0",
         "2.0",
         "62.959232613908874"
        ],
        [
         "24",
         "01/01/2018",
         "PM2.5",
         "166.0",
         "1.0",
         "45.86834733893557"
        ],
        [
         "25",
         "01/01/2018",
         "PMCO",
         "65.0",
         "4.0",
         "19.810126582278482"
        ],
        [
         "26",
         "01/01/2018",
         "SO2",
         "115.0",
         "1.0",
         "15.185185185185185"
        ],
        [
         "27",
         "01/01/2019",
         "CO",
         "3.6",
         "0.0",
         "0.6424190800681432"
        ],
        [
         "28",
         "01/01/2019",
         "NO",
         "122.0",
         "0.0",
         "12.617142857142857"
        ],
        [
         "29",
         "01/01/2019",
         "NO2",
         "59.0",
         "1.0",
         "22.36394557823129"
        ],
        [
         "30",
         "01/01/2019",
         "NOX",
         "155.0",
         "3.0",
         "35.44190476190476"
        ],
        [
         "31",
         "01/01/2019",
         "O3",
         "128.0",
         "0.0",
         "38.94038748137109"
        ],
        [
         "32",
         "01/01/2019",
         "PM10",
         "653.0",
         "2.0",
         "95.68484848484849"
        ],
        [
         "33",
         "01/01/2019",
         "PM2.5",
         "393.0",
         "2.0",
         "64.29426433915212"
        ],
        [
         "34",
         "01/01/2019",
         "PMCO",
         "88.0",
         "1.0",
         "23.830985915492956"
        ],
        [
         "35",
         "01/01/2019",
         "SO2",
         "81.0",
         "0.0",
         "4.6160409556314"
        ],
        [
         "36",
         "01/01/2020",
         "CO",
         "2.9",
         "0.0",
         "0.42881679389312977"
        ],
        [
         "37",
         "01/01/2020",
         "NO",
         "119.0",
         "0.0",
         "9.031578947368422"
        ],
        [
         "38",
         "01/01/2020",
         "NO2",
         "48.0",
         "1.0",
         "13.382716049382717"
        ],
        [
         "39",
         "01/01/2020",
         "NOX",
         "147.0",
         "1.0",
         "22.637894736842107"
        ],
        [
         "40",
         "01/01/2020",
         "O3",
         "59.0",
         "0.0",
         "18.7748031496063"
        ],
        [
         "41",
         "01/01/2020",
         "PM10",
         "426.0",
         "1.0",
         "63.58730158730159"
        ],
        [
         "42",
         "01/01/2020",
         "PM2.5",
         "117.0",
         "1.0",
         "27.766037735849057"
        ],
        [
         "43",
         "01/01/2020",
         "PMCO",
         "99.0",
         "1.0",
         "18.10135135135135"
        ],
        [
         "44",
         "01/01/2020",
         "SO2",
         "15.0",
         "0.0",
         "2.0476190476190474"
        ],
        [
         "45",
         "01/01/2021",
         "CO",
         "3.0",
         "0.0",
         "0.421414913957935"
        ],
        [
         "46",
         "01/01/2021",
         "NO",
         "89.0",
         "0.0",
         "5.712962962962963"
        ],
        [
         "47",
         "01/01/2021",
         "NO2",
         "53.0",
         "1.0",
         "16.977272727272727"
        ],
        [
         "48",
         "01/01/2021",
         "NOX",
         "119.0",
         "2.0",
         "23.261574074074073"
        ],
        [
         "49",
         "01/01/2021",
         "O3",
         "81.0",
         "0.0",
         "29.765494137353432"
        ]
       ],
       "shape": {
        "columns": 5,
        "rows": 29592
       }
      },
      "text/html": [
       "<div>\n",
       "<style scoped>\n",
       "    .dataframe tbody tr th:only-of-type {\n",
       "        vertical-align: middle;\n",
       "    }\n",
       "\n",
       "    .dataframe tbody tr th {\n",
       "        vertical-align: top;\n",
       "    }\n",
       "\n",
       "    .dataframe thead th {\n",
       "        text-align: right;\n",
       "    }\n",
       "</style>\n",
       "<table border=\"1\" class=\"dataframe\">\n",
       "  <thead>\n",
       "    <tr style=\"text-align: right;\">\n",
       "      <th></th>\n",
       "      <th>date</th>\n",
       "      <th>id_parameter</th>\n",
       "      <th>max_contaminantes</th>\n",
       "      <th>min_contaminantes</th>\n",
       "      <th>mean_contaminantes</th>\n",
       "    </tr>\n",
       "  </thead>\n",
       "  <tbody>\n",
       "    <tr>\n",
       "      <th>0</th>\n",
       "      <td>01/01/2016</td>\n",
       "      <td>CO</td>\n",
       "      <td>2.5</td>\n",
       "      <td>0.2</td>\n",
       "      <td>0.962269</td>\n",
       "    </tr>\n",
       "    <tr>\n",
       "      <th>1</th>\n",
       "      <td>01/01/2016</td>\n",
       "      <td>NO</td>\n",
       "      <td>76.0</td>\n",
       "      <td>0.0</td>\n",
       "      <td>13.831140</td>\n",
       "    </tr>\n",
       "    <tr>\n",
       "      <th>2</th>\n",
       "      <td>01/01/2016</td>\n",
       "      <td>NO2</td>\n",
       "      <td>63.0</td>\n",
       "      <td>6.0</td>\n",
       "      <td>29.712719</td>\n",
       "    </tr>\n",
       "    <tr>\n",
       "      <th>3</th>\n",
       "      <td>01/01/2016</td>\n",
       "      <td>NOX</td>\n",
       "      <td>120.0</td>\n",
       "      <td>6.0</td>\n",
       "      <td>43.567982</td>\n",
       "    </tr>\n",
       "    <tr>\n",
       "      <th>4</th>\n",
       "      <td>01/01/2016</td>\n",
       "      <td>O3</td>\n",
       "      <td>133.0</td>\n",
       "      <td>1.0</td>\n",
       "      <td>33.471014</td>\n",
       "    </tr>\n",
       "    <tr>\n",
       "      <th>...</th>\n",
       "      <td>...</td>\n",
       "      <td>...</td>\n",
       "      <td>...</td>\n",
       "      <td>...</td>\n",
       "      <td>...</td>\n",
       "    </tr>\n",
       "    <tr>\n",
       "      <th>29587</th>\n",
       "      <td>31/12/2024</td>\n",
       "      <td>O3</td>\n",
       "      <td>118.0</td>\n",
       "      <td>1.0</td>\n",
       "      <td>37.928214</td>\n",
       "    </tr>\n",
       "    <tr>\n",
       "      <th>29588</th>\n",
       "      <td>31/12/2024</td>\n",
       "      <td>PM10</td>\n",
       "      <td>224.0</td>\n",
       "      <td>5.0</td>\n",
       "      <td>61.698413</td>\n",
       "    </tr>\n",
       "    <tr>\n",
       "      <th>29589</th>\n",
       "      <td>31/12/2024</td>\n",
       "      <td>PM2.5</td>\n",
       "      <td>105.0</td>\n",
       "      <td>3.0</td>\n",
       "      <td>30.035599</td>\n",
       "    </tr>\n",
       "    <tr>\n",
       "      <th>29590</th>\n",
       "      <td>31/12/2024</td>\n",
       "      <td>PMCO</td>\n",
       "      <td>63.0</td>\n",
       "      <td>7.0</td>\n",
       "      <td>22.487952</td>\n",
       "    </tr>\n",
       "    <tr>\n",
       "      <th>29591</th>\n",
       "      <td>31/12/2024</td>\n",
       "      <td>SO2</td>\n",
       "      <td>10.0</td>\n",
       "      <td>0.0</td>\n",
       "      <td>2.353053</td>\n",
       "    </tr>\n",
       "  </tbody>\n",
       "</table>\n",
       "<p>29592 rows × 5 columns</p>\n",
       "</div>"
      ],
      "text/plain": [
       "             date id_parameter  max_contaminantes  min_contaminantes  \\\n",
       "0      01/01/2016           CO                2.5                0.2   \n",
       "1      01/01/2016           NO               76.0                0.0   \n",
       "2      01/01/2016          NO2               63.0                6.0   \n",
       "3      01/01/2016          NOX              120.0                6.0   \n",
       "4      01/01/2016           O3              133.0                1.0   \n",
       "...           ...          ...                ...                ...   \n",
       "29587  31/12/2024           O3              118.0                1.0   \n",
       "29588  31/12/2024         PM10              224.0                5.0   \n",
       "29589  31/12/2024        PM2.5              105.0                3.0   \n",
       "29590  31/12/2024         PMCO               63.0                7.0   \n",
       "29591  31/12/2024          SO2               10.0                0.0   \n",
       "\n",
       "       mean_contaminantes  \n",
       "0                0.962269  \n",
       "1               13.831140  \n",
       "2               29.712719  \n",
       "3               43.567982  \n",
       "4               33.471014  \n",
       "...                   ...  \n",
       "29587           37.928214  \n",
       "29588           61.698413  \n",
       "29589           30.035599  \n",
       "29590           22.487952  \n",
       "29591            2.353053  \n",
       "\n",
       "[29592 rows x 5 columns]"
      ]
     },
     "execution_count": 137,
     "metadata": {},
     "output_type": "execute_result"
    }
   ],
   "source": [
    "df"
   ]
  },
  {
   "cell_type": "code",
   "execution_count": 191,
   "id": "a6bb4b33",
   "metadata": {},
   "outputs": [],
   "source": [
    "df11= pd.read_csv('/Users/santiagoolvera/Desktop/ITAM/pols_pub2/HoyNoCircula/Datos/raw/meteorologia/meteorologia_2016.csv', encoding='latin-1')\n",
    "df12 = pd.read_csv('/Users/santiagoolvera/Desktop/ITAM/pols_pub2/HoyNoCircula/Datos/raw/meteorologia/meteorologia_2017.csv', encoding='latin-1')\n",
    "df13 = pd.read_csv('/Users/santiagoolvera/Desktop/ITAM/pols_pub2/HoyNoCircula/Datos/raw/meteorologia/meteorologia_2018.csv', encoding='latin-1')\n",
    "df14 = pd.read_csv('/Users/santiagoolvera/Desktop/ITAM/pols_pub2/HoyNoCircula/Datos/raw/meteorologia/meteorologia_2019.csv', encoding='latin-1')\n",
    "df15 = pd.read_csv('/Users/santiagoolvera/Desktop/ITAM/pols_pub2/HoyNoCircula/Datos/raw/meteorologia/meteorologia_2020.csv', encoding='latin-1')\n",
    "df16 = pd.read_csv('/Users/santiagoolvera/Desktop/ITAM/pols_pub2/HoyNoCircula/Datos/raw/meteorologia/meteorologia_2021.csv', encoding='latin-1')\n",
    "df17 = pd.read_csv('/Users/santiagoolvera/Desktop/ITAM/pols_pub2/HoyNoCircula/Datos/raw/meteorologia/meteorologia_2022.csv', encoding='latin-1')\n",
    "df18 = pd.read_csv('/Users/santiagoolvera/Desktop/ITAM/pols_pub2/HoyNoCircula/Datos/raw/meteorologia/meteorologia_2023.csv', encoding='latin-1')\n",
    "df19 = pd.read_csv('/Users/santiagoolvera/Desktop/ITAM/pols_pub2/HoyNoCircula/Datos/raw/meteorologia/meteorologia_2024.csv', encoding='latin-1')"
   ]
  },
  {
   "cell_type": "code",
   "execution_count": 192,
   "id": "01c91e53",
   "metadata": {},
   "outputs": [],
   "source": [
    "df_met= pd.concat([df11, df12, df13, df14, df15, df16,df17], ignore_index=True)\n",
    "df_met['date'] =  df_met['date'].str.extract(r'(\\d{2}/\\d{2}/\\d{4})')"
   ]
  },
  {
   "cell_type": "code",
   "execution_count": 193,
   "id": "42b88fbb",
   "metadata": {},
   "outputs": [
    {
     "data": {
      "application/vnd.microsoft.datawrangler.viewer.v0+json": {
       "columns": [
        {
         "name": "index",
         "rawType": "int64",
         "type": "integer"
        },
        {
         "name": "date",
         "rawType": "object",
         "type": "string"
        },
        {
         "name": "id_station",
         "rawType": "object",
         "type": "string"
        },
        {
         "name": "id_parameter",
         "rawType": "object",
         "type": "string"
        },
        {
         "name": "value",
         "rawType": "float64",
         "type": "float"
        },
        {
         "name": "unit",
         "rawType": "int64",
         "type": "integer"
        }
       ],
       "conversionMethod": "pd.DataFrame",
       "ref": "6baff751-a01f-424b-a57d-ff38c3b96148",
       "rows": [
        [
         "0",
         "01/01/2016",
         "ACO",
         "RH",
         "73.0",
         "6"
        ],
        [
         "1",
         "01/01/2016",
         "ACO",
         "TMP",
         "14.1",
         "5"
        ],
        [
         "2",
         "01/01/2016",
         "ACO",
         "WDR",
         "35.0",
         "4"
        ],
        [
         "3",
         "01/01/2016",
         "ACO",
         "WSP",
         "2.0",
         "3"
        ],
        [
         "4",
         "01/01/2016",
         "AJU",
         "RH",
         "88.0",
         "6"
        ],
        [
         "5",
         "01/01/2016",
         "AJU",
         "TMP",
         "5.6",
         "5"
        ],
        [
         "6",
         "01/01/2016",
         "AJU",
         "WDR",
         "197.0",
         "4"
        ],
        [
         "7",
         "01/01/2016",
         "AJU",
         "WSP",
         "1.3",
         "3"
        ],
        [
         "8",
         "01/01/2016",
         "MON",
         "RH",
         "71.0",
         "6"
        ],
        [
         "9",
         "01/01/2016",
         "MON",
         "TMP",
         "13.1",
         "5"
        ],
        [
         "10",
         "01/01/2016",
         "MON",
         "WDR",
         "338.0",
         "4"
        ],
        [
         "11",
         "01/01/2016",
         "MON",
         "WSP",
         "1.0",
         "3"
        ],
        [
         "12",
         "01/01/2016",
         "CHO",
         "RH",
         "67.0",
         "6"
        ],
        [
         "13",
         "01/01/2016",
         "CHO",
         "TMP",
         "13.2",
         "5"
        ],
        [
         "14",
         "01/01/2016",
         "CHO",
         "WDR",
         "129.0",
         "4"
        ],
        [
         "15",
         "01/01/2016",
         "CHO",
         "WSP",
         "1.3",
         "3"
        ],
        [
         "16",
         "01/01/2016",
         "CUA",
         "RH",
         "67.0",
         "6"
        ],
        [
         "17",
         "01/01/2016",
         "CUA",
         "TMP",
         "13.4",
         "5"
        ],
        [
         "18",
         "01/01/2016",
         "CUA",
         "WDR",
         "195.0",
         "4"
        ],
        [
         "19",
         "01/01/2016",
         "CUA",
         "WSP",
         "1.1",
         "3"
        ],
        [
         "20",
         "01/01/2016",
         "CUT",
         "RH",
         "81.0",
         "6"
        ],
        [
         "21",
         "01/01/2016",
         "CUT",
         "TMP",
         "11.1",
         "5"
        ],
        [
         "22",
         "01/01/2016",
         "CUT",
         "WDR",
         "346.0",
         "4"
        ],
        [
         "23",
         "01/01/2016",
         "CUT",
         "WSP",
         "1.1",
         "3"
        ],
        [
         "24",
         "01/01/2016",
         "FAC",
         "RH",
         "71.0",
         "6"
        ],
        [
         "25",
         "01/01/2016",
         "FAC",
         "TMP",
         "13.3",
         "5"
        ],
        [
         "26",
         "01/01/2016",
         "FAC",
         "WDR",
         "228.0",
         "4"
        ],
        [
         "27",
         "01/01/2016",
         "FAC",
         "WSP",
         "0.7",
         "3"
        ],
        [
         "28",
         "01/01/2016",
         "HGM",
         "RH",
         "52.0",
         "6"
        ],
        [
         "29",
         "01/01/2016",
         "HGM",
         "TMP",
         "17.1",
         "5"
        ],
        [
         "30",
         "01/01/2016",
         "HGM",
         "WDR",
         "51.0",
         "4"
        ],
        [
         "31",
         "01/01/2016",
         "HGM",
         "WSP",
         "0.5",
         "3"
        ],
        [
         "32",
         "01/01/2016",
         "MER",
         "RH",
         "58.0",
         "6"
        ],
        [
         "33",
         "01/01/2016",
         "MER",
         "TMP",
         "17.0",
         "5"
        ],
        [
         "34",
         "01/01/2016",
         "MER",
         "WDR",
         "97.0",
         "4"
        ],
        [
         "35",
         "01/01/2016",
         "MER",
         "WSP",
         "0.8",
         "3"
        ],
        [
         "36",
         "01/01/2016",
         "MER",
         "PBa",
         null,
         "9"
        ],
        [
         "37",
         "01/01/2016",
         "NEZ",
         "RH",
         "54.0",
         "6"
        ],
        [
         "38",
         "01/01/2016",
         "NEZ",
         "TMP",
         "17.4",
         "5"
        ],
        [
         "39",
         "01/01/2016",
         "NEZ",
         "WDR",
         "122.0",
         "4"
        ],
        [
         "40",
         "01/01/2016",
         "NEZ",
         "WSP",
         "1.6",
         "3"
        ],
        [
         "41",
         "01/01/2016",
         "PED",
         "RH",
         null,
         "6"
        ],
        [
         "42",
         "01/01/2016",
         "PED",
         "TMP",
         null,
         "5"
        ],
        [
         "43",
         "01/01/2016",
         "PED",
         "WDR",
         null,
         "4"
        ],
        [
         "44",
         "01/01/2016",
         "PED",
         "WSP",
         null,
         "3"
        ],
        [
         "45",
         "01/01/2016",
         "SAG",
         "RH",
         "63.0",
         "6"
        ],
        [
         "46",
         "01/01/2016",
         "SAG",
         "TMP",
         "16.6",
         "5"
        ],
        [
         "47",
         "01/01/2016",
         "SAG",
         "WDR",
         "51.0",
         "4"
        ],
        [
         "48",
         "01/01/2016",
         "SAG",
         "WSP",
         "0.8",
         "3"
        ],
        [
         "49",
         "01/01/2016",
         "SFE",
         "RH",
         "67.0",
         "6"
        ]
       ],
       "shape": {
        "columns": 5,
        "rows": 6576408
       }
      },
      "text/html": [
       "<div>\n",
       "<style scoped>\n",
       "    .dataframe tbody tr th:only-of-type {\n",
       "        vertical-align: middle;\n",
       "    }\n",
       "\n",
       "    .dataframe tbody tr th {\n",
       "        vertical-align: top;\n",
       "    }\n",
       "\n",
       "    .dataframe thead th {\n",
       "        text-align: right;\n",
       "    }\n",
       "</style>\n",
       "<table border=\"1\" class=\"dataframe\">\n",
       "  <thead>\n",
       "    <tr style=\"text-align: right;\">\n",
       "      <th></th>\n",
       "      <th>date</th>\n",
       "      <th>id_station</th>\n",
       "      <th>id_parameter</th>\n",
       "      <th>value</th>\n",
       "      <th>unit</th>\n",
       "    </tr>\n",
       "  </thead>\n",
       "  <tbody>\n",
       "    <tr>\n",
       "      <th>0</th>\n",
       "      <td>01/01/2016</td>\n",
       "      <td>ACO</td>\n",
       "      <td>RH</td>\n",
       "      <td>73.0</td>\n",
       "      <td>6</td>\n",
       "    </tr>\n",
       "    <tr>\n",
       "      <th>1</th>\n",
       "      <td>01/01/2016</td>\n",
       "      <td>ACO</td>\n",
       "      <td>TMP</td>\n",
       "      <td>14.1</td>\n",
       "      <td>5</td>\n",
       "    </tr>\n",
       "    <tr>\n",
       "      <th>2</th>\n",
       "      <td>01/01/2016</td>\n",
       "      <td>ACO</td>\n",
       "      <td>WDR</td>\n",
       "      <td>35.0</td>\n",
       "      <td>4</td>\n",
       "    </tr>\n",
       "    <tr>\n",
       "      <th>3</th>\n",
       "      <td>01/01/2016</td>\n",
       "      <td>ACO</td>\n",
       "      <td>WSP</td>\n",
       "      <td>2.0</td>\n",
       "      <td>3</td>\n",
       "    </tr>\n",
       "    <tr>\n",
       "      <th>4</th>\n",
       "      <td>01/01/2016</td>\n",
       "      <td>AJU</td>\n",
       "      <td>RH</td>\n",
       "      <td>88.0</td>\n",
       "      <td>6</td>\n",
       "    </tr>\n",
       "    <tr>\n",
       "      <th>...</th>\n",
       "      <td>...</td>\n",
       "      <td>...</td>\n",
       "      <td>...</td>\n",
       "      <td>...</td>\n",
       "      <td>...</td>\n",
       "    </tr>\n",
       "    <tr>\n",
       "      <th>6576403</th>\n",
       "      <td>31/12/2022</td>\n",
       "      <td>LAA</td>\n",
       "      <td>WSP</td>\n",
       "      <td>0.8</td>\n",
       "      <td>3</td>\n",
       "    </tr>\n",
       "    <tr>\n",
       "      <th>6576404</th>\n",
       "      <td>31/12/2022</td>\n",
       "      <td>FAR</td>\n",
       "      <td>WDR</td>\n",
       "      <td>115.0</td>\n",
       "      <td>4</td>\n",
       "    </tr>\n",
       "    <tr>\n",
       "      <th>6576405</th>\n",
       "      <td>31/12/2022</td>\n",
       "      <td>FAR</td>\n",
       "      <td>WSP</td>\n",
       "      <td>1.3</td>\n",
       "      <td>3</td>\n",
       "    </tr>\n",
       "    <tr>\n",
       "      <th>6576406</th>\n",
       "      <td>31/12/2022</td>\n",
       "      <td>SAC</td>\n",
       "      <td>WDR</td>\n",
       "      <td>129.0</td>\n",
       "      <td>4</td>\n",
       "    </tr>\n",
       "    <tr>\n",
       "      <th>6576407</th>\n",
       "      <td>31/12/2022</td>\n",
       "      <td>SAC</td>\n",
       "      <td>WSP</td>\n",
       "      <td>3.7</td>\n",
       "      <td>3</td>\n",
       "    </tr>\n",
       "  </tbody>\n",
       "</table>\n",
       "<p>6576408 rows × 5 columns</p>\n",
       "</div>"
      ],
      "text/plain": [
       "               date id_station id_parameter  value  unit\n",
       "0        01/01/2016        ACO           RH   73.0     6\n",
       "1        01/01/2016        ACO          TMP   14.1     5\n",
       "2        01/01/2016        ACO          WDR   35.0     4\n",
       "3        01/01/2016        ACO          WSP    2.0     3\n",
       "4        01/01/2016        AJU           RH   88.0     6\n",
       "...             ...        ...          ...    ...   ...\n",
       "6576403  31/12/2022        LAA          WSP    0.8     3\n",
       "6576404  31/12/2022        FAR          WDR  115.0     4\n",
       "6576405  31/12/2022        FAR          WSP    1.3     3\n",
       "6576406  31/12/2022        SAC          WDR  129.0     4\n",
       "6576407  31/12/2022        SAC          WSP    3.7     3\n",
       "\n",
       "[6576408 rows x 5 columns]"
      ]
     },
     "execution_count": 193,
     "metadata": {},
     "output_type": "execute_result"
    }
   ],
   "source": [
    "df_met"
   ]
  },
  {
   "cell_type": "code",
   "execution_count": 194,
   "id": "71513cc8",
   "metadata": {},
   "outputs": [],
   "source": [
    "df18['date'] = pd.to_datetime(df18['date'], format='mixed')\n",
    "\n",
    "df18['date'] = df18['date'].dt.date\n",
    "\n",
    "df19['date'] = pd.to_datetime(df19['date'], format='mixed')\n",
    "\n",
    "df19['date'] = df19['date'].dt.date\n",
    "\n"
   ]
  },
  {
   "cell_type": "code",
   "execution_count": 195,
   "id": "7aad6a17",
   "metadata": {},
   "outputs": [],
   "source": [
    "df18['date'] = pd.to_datetime(df18['date'], format='%Y-%m-%d').dt.strftime('%d/%m/%Y')\n",
    "df19['date'] = pd.to_datetime(df19['date'], format='%Y-%m-%d').dt.strftime('%d/%m/%Y')"
   ]
  },
  {
   "cell_type": "code",
   "execution_count": 196,
   "id": "7b73f9bc",
   "metadata": {},
   "outputs": [],
   "source": [
    "df_final_met= pd.concat([df_met, df18, df19], ignore_index=True)"
   ]
  },
  {
   "cell_type": "code",
   "execution_count": 197,
   "id": "8f24cf27",
   "metadata": {},
   "outputs": [],
   "source": [
    "aux2= df_final_met.groupby(['id_parameter']).agg({'value': ['max', 'min', 'mean', 'std', 'count']}).reset_index()\n",
    "aux2.columns = ['id_parameter', 'max', 'min', 'mean', 'std', 'count']\n",
    "aux2.to_csv('/Users/santiagoolvera/Desktop/ITAM/pols_pub2/HoyNoCircula/Datos/final/descriptiva_meteorologia.csv', index=False, encoding='latin-1')"
   ]
  },
  {
   "cell_type": "code",
   "execution_count": 200,
   "id": "9588e2d2",
   "metadata": {},
   "outputs": [],
   "source": [
    "##drop na\n",
    "\n",
    "aux2= aux2.dropna()"
   ]
  },
  {
   "cell_type": "code",
   "execution_count": 201,
   "id": "91b7a9d5",
   "metadata": {},
   "outputs": [
    {
     "data": {
      "application/vnd.microsoft.datawrangler.viewer.v0+json": {
       "columns": [
        {
         "name": "index",
         "rawType": "int64",
         "type": "integer"
        },
        {
         "name": "id_parameter",
         "rawType": "object",
         "type": "string"
        },
        {
         "name": "max",
         "rawType": "float64",
         "type": "float"
        },
        {
         "name": "min",
         "rawType": "float64",
         "type": "float"
        },
        {
         "name": "mean",
         "rawType": "float64",
         "type": "float"
        },
        {
         "name": "std",
         "rawType": "float64",
         "type": "float"
        },
        {
         "name": "count",
         "rawType": "int64",
         "type": "integer"
        }
       ],
       "conversionMethod": "pd.DataFrame",
       "ref": "0adb87ac-0137-435c-93f8-f96c1addab8d",
       "rows": [
        [
         "1",
         "RH",
         "102.0",
         "1.0",
         "54.060511318226865",
         "22.100827520577308",
         "1720455"
        ],
        [
         "2",
         "TMP",
         "36.0",
         "-6.2",
         "16.737283181351913",
         "5.181297545566335",
         "1677727"
        ],
        [
         "3",
         "WDR",
         "360.0",
         "0.0",
         "180.8177421547348",
         "117.4581529456923",
         "1794968"
        ],
        [
         "4",
         "WSP",
         "24.8",
         "0.0",
         "2.283298215978972",
         "1.5484191171117543",
         "1794934"
        ]
       ],
       "shape": {
        "columns": 6,
        "rows": 4
       }
      },
      "text/html": [
       "<div>\n",
       "<style scoped>\n",
       "    .dataframe tbody tr th:only-of-type {\n",
       "        vertical-align: middle;\n",
       "    }\n",
       "\n",
       "    .dataframe tbody tr th {\n",
       "        vertical-align: top;\n",
       "    }\n",
       "\n",
       "    .dataframe thead th {\n",
       "        text-align: right;\n",
       "    }\n",
       "</style>\n",
       "<table border=\"1\" class=\"dataframe\">\n",
       "  <thead>\n",
       "    <tr style=\"text-align: right;\">\n",
       "      <th></th>\n",
       "      <th>id_parameter</th>\n",
       "      <th>max</th>\n",
       "      <th>min</th>\n",
       "      <th>mean</th>\n",
       "      <th>std</th>\n",
       "      <th>count</th>\n",
       "    </tr>\n",
       "  </thead>\n",
       "  <tbody>\n",
       "    <tr>\n",
       "      <th>1</th>\n",
       "      <td>RH</td>\n",
       "      <td>102.0</td>\n",
       "      <td>1.0</td>\n",
       "      <td>54.060511</td>\n",
       "      <td>22.100828</td>\n",
       "      <td>1720455</td>\n",
       "    </tr>\n",
       "    <tr>\n",
       "      <th>2</th>\n",
       "      <td>TMP</td>\n",
       "      <td>36.0</td>\n",
       "      <td>-6.2</td>\n",
       "      <td>16.737283</td>\n",
       "      <td>5.181298</td>\n",
       "      <td>1677727</td>\n",
       "    </tr>\n",
       "    <tr>\n",
       "      <th>3</th>\n",
       "      <td>WDR</td>\n",
       "      <td>360.0</td>\n",
       "      <td>0.0</td>\n",
       "      <td>180.817742</td>\n",
       "      <td>117.458153</td>\n",
       "      <td>1794968</td>\n",
       "    </tr>\n",
       "    <tr>\n",
       "      <th>4</th>\n",
       "      <td>WSP</td>\n",
       "      <td>24.8</td>\n",
       "      <td>0.0</td>\n",
       "      <td>2.283298</td>\n",
       "      <td>1.548419</td>\n",
       "      <td>1794934</td>\n",
       "    </tr>\n",
       "  </tbody>\n",
       "</table>\n",
       "</div>"
      ],
      "text/plain": [
       "  id_parameter    max  min        mean         std    count\n",
       "1           RH  102.0  1.0   54.060511   22.100828  1720455\n",
       "2          TMP   36.0 -6.2   16.737283    5.181298  1677727\n",
       "3          WDR  360.0  0.0  180.817742  117.458153  1794968\n",
       "4          WSP   24.8  0.0    2.283298    1.548419  1794934"
      ]
     },
     "execution_count": 201,
     "metadata": {},
     "output_type": "execute_result"
    }
   ],
   "source": [
    "aux2"
   ]
  },
  {
   "cell_type": "code",
   "execution_count": 144,
   "id": "f9f9c73e",
   "metadata": {},
   "outputs": [],
   "source": [
    "df_final_met  = df_final_met.groupby(['date', 'id_parameter']).agg({'value': ['max', 'min', 'mean']}).reset_index()\n"
   ]
  },
  {
   "cell_type": "code",
   "execution_count": 145,
   "id": "230b3a85",
   "metadata": {},
   "outputs": [],
   "source": [
    "df_final_met.columns = ['date', 'id_parameter', 'max_meteorologia', 'min_meteorologia', 'mean_meteorologia']"
   ]
  },
  {
   "cell_type": "code",
   "execution_count": 146,
   "id": "55f9b0c3",
   "metadata": {},
   "outputs": [
    {
     "data": {
      "application/vnd.microsoft.datawrangler.viewer.v0+json": {
       "columns": [
        {
         "name": "index",
         "rawType": "int64",
         "type": "integer"
        },
        {
         "name": "date",
         "rawType": "object",
         "type": "string"
        },
        {
         "name": "id_parameter",
         "rawType": "object",
         "type": "string"
        },
        {
         "name": "max_meteorologia",
         "rawType": "float64",
         "type": "float"
        },
        {
         "name": "min_meteorologia",
         "rawType": "float64",
         "type": "float"
        },
        {
         "name": "mean_meteorologia",
         "rawType": "float64",
         "type": "float"
        }
       ],
       "conversionMethod": "pd.DataFrame",
       "ref": "f6c646b9-f6fa-4478-b5cf-3beb25660056",
       "rows": [
        [
         "0",
         "01/01/2016",
         "PBa",
         null,
         null,
         null
        ],
        [
         "1",
         "01/01/2016",
         "RH",
         "100.0",
         "29.0",
         "64.46376811594203"
        ],
        [
         "2",
         "01/01/2016",
         "TMP",
         "25.0",
         "2.2",
         "15.516485507246378"
        ],
        [
         "3",
         "01/01/2016",
         "WDR",
         "360.0",
         "1.0",
         "175.3913043478261"
        ],
        [
         "4",
         "01/01/2016",
         "WSP",
         "6.3",
         "0.2",
         "1.8460144927536233"
        ],
        [
         "5",
         "01/01/2017",
         "PBa",
         null,
         null,
         null
        ],
        [
         "6",
         "01/01/2017",
         "RH",
         "93.0",
         "25.0",
         "56.25088339222615"
        ],
        [
         "7",
         "01/01/2017",
         "TMP",
         "24.7",
         "0.6",
         "14.654593639575971"
        ],
        [
         "8",
         "01/01/2017",
         "WDR",
         "360.0",
         "1.0",
         "169.4946996466431"
        ],
        [
         "9",
         "01/01/2017",
         "WSP",
         "6.3",
         "0.0",
         "1.7051236749116607"
        ],
        [
         "10",
         "01/01/2018",
         "PBa",
         null,
         null,
         null
        ],
        [
         "11",
         "01/01/2018",
         "RH",
         "94.0",
         "25.0",
         "56.788121990369184"
        ],
        [
         "12",
         "01/01/2018",
         "TMP",
         "20.5",
         "-1.4",
         "11.972954924874792"
        ],
        [
         "13",
         "01/01/2018",
         "WDR",
         "359.0",
         "0.0",
         "210.42237061769617"
        ],
        [
         "14",
         "01/01/2018",
         "WSP",
         "6.7",
         "0.3",
         "2.226043405676127"
        ],
        [
         "15",
         "01/01/2019",
         "PBa",
         null,
         null,
         null
        ],
        [
         "16",
         "01/01/2019",
         "RH",
         "95.0",
         "13.0",
         "47.03623188405797"
        ],
        [
         "17",
         "01/01/2019",
         "TMP",
         "25.2",
         "-1.7",
         "13.962499999999999"
        ],
        [
         "18",
         "01/01/2019",
         "WDR",
         "359.0",
         "0.0",
         "170.54006410256412"
        ],
        [
         "19",
         "01/01/2019",
         "WSP",
         "8.5",
         "0.0",
         "1.7331730769230769"
        ],
        [
         "20",
         "01/01/2020",
         "PBa",
         null,
         null,
         null
        ],
        [
         "21",
         "01/01/2020",
         "RH",
         "93.0",
         "23.0",
         "52.38610038610039"
        ],
        [
         "22",
         "01/01/2020",
         "TMP",
         "25.4",
         "4.0",
         "15.976702508960573"
        ],
        [
         "23",
         "01/01/2020",
         "WDR",
         "360.0",
         "4.0",
         "174.55518945634267"
        ],
        [
         "24",
         "01/01/2020",
         "WSP",
         "9.6",
         "0.4",
         "3.5222405271828667"
        ],
        [
         "25",
         "01/01/2021",
         "PBa",
         null,
         null,
         null
        ],
        [
         "26",
         "01/01/2021",
         "RH",
         "85.0",
         "1.0",
         "32.41516966067864"
        ],
        [
         "27",
         "01/01/2021",
         "TMP",
         "25.4",
         "-2.5",
         "12.400189393939394"
        ],
        [
         "28",
         "01/01/2021",
         "WDR",
         "360.0",
         "1.0",
         "162.67361111111111"
        ],
        [
         "29",
         "01/01/2021",
         "WSP",
         "9.1",
         "0.2",
         "2.6977430555555557"
        ],
        [
         "30",
         "01/01/2022",
         "PBa",
         null,
         null,
         null
        ],
        [
         "31",
         "01/01/2022",
         "RH",
         "100.0",
         "12.0",
         "44.756653992395435"
        ],
        [
         "32",
         "01/01/2022",
         "TMP",
         "27.2",
         "-0.1",
         "15.330798479087452"
        ],
        [
         "33",
         "01/01/2022",
         "WDR",
         "360.0",
         "0.0",
         "172.53358208955223"
        ],
        [
         "34",
         "01/01/2022",
         "WSP",
         "6.2",
         "0.0",
         "1.4333955223880597"
        ],
        [
         "35",
         "01/01/2023",
         "RH",
         "100.0",
         "26.0",
         "57.43881118881119"
        ],
        [
         "36",
         "01/01/2023",
         "TMP",
         "25.2",
         "0.4",
         "13.449429657794676"
        ],
        [
         "37",
         "01/01/2023",
         "WDR",
         "359.0",
         "1.0",
         "158.8488160291439"
        ],
        [
         "38",
         "01/01/2023",
         "WSP",
         "6.6",
         "0.0",
         "1.8903460837887067"
        ],
        [
         "39",
         "01/01/2024",
         "RH",
         "100.0",
         "8.0",
         "50.34803921568628"
        ],
        [
         "40",
         "01/01/2024",
         "TMP",
         "25.0",
         "0.0",
         "12.255494505494505"
        ],
        [
         "41",
         "01/01/2024",
         "WDR",
         "360.0",
         "0.0",
         "172.2069970845481"
        ],
        [
         "42",
         "01/01/2024",
         "WSP",
         "14.9",
         "0.2",
         "3.489212827988338"
        ],
        [
         "43",
         "01/01/2025",
         "RH",
         "73.0",
         "22.0",
         "35.0625"
        ],
        [
         "44",
         "01/01/2025",
         "TMP",
         "15.3",
         "2.2",
         "11.450000000000001"
        ],
        [
         "45",
         "01/01/2025",
         "WDR",
         "315.0",
         "8.0",
         "223.21052631578948"
        ],
        [
         "46",
         "01/01/2025",
         "WSP",
         "7.4",
         "1.5",
         "3.952631578947368"
        ],
        [
         "47",
         "01/02/2016",
         "PBa",
         null,
         null,
         null
        ],
        [
         "48",
         "01/02/2016",
         "RH",
         "88.0",
         "13.0",
         "39.495"
        ],
        [
         "49",
         "01/02/2016",
         "TMP",
         "26.7",
         "0.3",
         "15.8715"
        ]
       ],
       "shape": {
        "columns": 5,
        "rows": 15713
       }
      },
      "text/html": [
       "<div>\n",
       "<style scoped>\n",
       "    .dataframe tbody tr th:only-of-type {\n",
       "        vertical-align: middle;\n",
       "    }\n",
       "\n",
       "    .dataframe tbody tr th {\n",
       "        vertical-align: top;\n",
       "    }\n",
       "\n",
       "    .dataframe thead th {\n",
       "        text-align: right;\n",
       "    }\n",
       "</style>\n",
       "<table border=\"1\" class=\"dataframe\">\n",
       "  <thead>\n",
       "    <tr style=\"text-align: right;\">\n",
       "      <th></th>\n",
       "      <th>date</th>\n",
       "      <th>id_parameter</th>\n",
       "      <th>max_meteorologia</th>\n",
       "      <th>min_meteorologia</th>\n",
       "      <th>mean_meteorologia</th>\n",
       "    </tr>\n",
       "  </thead>\n",
       "  <tbody>\n",
       "    <tr>\n",
       "      <th>0</th>\n",
       "      <td>01/01/2016</td>\n",
       "      <td>PBa</td>\n",
       "      <td>NaN</td>\n",
       "      <td>NaN</td>\n",
       "      <td>NaN</td>\n",
       "    </tr>\n",
       "    <tr>\n",
       "      <th>1</th>\n",
       "      <td>01/01/2016</td>\n",
       "      <td>RH</td>\n",
       "      <td>100.0</td>\n",
       "      <td>29.0</td>\n",
       "      <td>64.463768</td>\n",
       "    </tr>\n",
       "    <tr>\n",
       "      <th>2</th>\n",
       "      <td>01/01/2016</td>\n",
       "      <td>TMP</td>\n",
       "      <td>25.0</td>\n",
       "      <td>2.2</td>\n",
       "      <td>15.516486</td>\n",
       "    </tr>\n",
       "    <tr>\n",
       "      <th>3</th>\n",
       "      <td>01/01/2016</td>\n",
       "      <td>WDR</td>\n",
       "      <td>360.0</td>\n",
       "      <td>1.0</td>\n",
       "      <td>175.391304</td>\n",
       "    </tr>\n",
       "    <tr>\n",
       "      <th>4</th>\n",
       "      <td>01/01/2016</td>\n",
       "      <td>WSP</td>\n",
       "      <td>6.3</td>\n",
       "      <td>0.2</td>\n",
       "      <td>1.846014</td>\n",
       "    </tr>\n",
       "    <tr>\n",
       "      <th>...</th>\n",
       "      <td>...</td>\n",
       "      <td>...</td>\n",
       "      <td>...</td>\n",
       "      <td>...</td>\n",
       "      <td>...</td>\n",
       "    </tr>\n",
       "    <tr>\n",
       "      <th>15708</th>\n",
       "      <td>31/12/2023</td>\n",
       "      <td>WSP</td>\n",
       "      <td>6.8</td>\n",
       "      <td>0.0</td>\n",
       "      <td>1.682917</td>\n",
       "    </tr>\n",
       "    <tr>\n",
       "      <th>15709</th>\n",
       "      <td>31/12/2024</td>\n",
       "      <td>RH</td>\n",
       "      <td>99.0</td>\n",
       "      <td>10.0</td>\n",
       "      <td>40.377604</td>\n",
       "    </tr>\n",
       "    <tr>\n",
       "      <th>15710</th>\n",
       "      <td>31/12/2024</td>\n",
       "      <td>TMP</td>\n",
       "      <td>26.3</td>\n",
       "      <td>-1.6</td>\n",
       "      <td>13.442857</td>\n",
       "    </tr>\n",
       "    <tr>\n",
       "      <th>15711</th>\n",
       "      <td>31/12/2024</td>\n",
       "      <td>WDR</td>\n",
       "      <td>359.0</td>\n",
       "      <td>2.0</td>\n",
       "      <td>194.730263</td>\n",
       "    </tr>\n",
       "    <tr>\n",
       "      <th>15712</th>\n",
       "      <td>31/12/2024</td>\n",
       "      <td>WSP</td>\n",
       "      <td>12.8</td>\n",
       "      <td>0.1</td>\n",
       "      <td>3.509649</td>\n",
       "    </tr>\n",
       "  </tbody>\n",
       "</table>\n",
       "<p>15713 rows × 5 columns</p>\n",
       "</div>"
      ],
      "text/plain": [
       "             date id_parameter  max_meteorologia  min_meteorologia  \\\n",
       "0      01/01/2016          PBa               NaN               NaN   \n",
       "1      01/01/2016           RH             100.0              29.0   \n",
       "2      01/01/2016          TMP              25.0               2.2   \n",
       "3      01/01/2016          WDR             360.0               1.0   \n",
       "4      01/01/2016          WSP               6.3               0.2   \n",
       "...           ...          ...               ...               ...   \n",
       "15708  31/12/2023          WSP               6.8               0.0   \n",
       "15709  31/12/2024           RH              99.0              10.0   \n",
       "15710  31/12/2024          TMP              26.3              -1.6   \n",
       "15711  31/12/2024          WDR             359.0               2.0   \n",
       "15712  31/12/2024          WSP              12.8               0.1   \n",
       "\n",
       "       mean_meteorologia  \n",
       "0                    NaN  \n",
       "1              64.463768  \n",
       "2              15.516486  \n",
       "3             175.391304  \n",
       "4               1.846014  \n",
       "...                  ...  \n",
       "15708           1.682917  \n",
       "15709          40.377604  \n",
       "15710          13.442857  \n",
       "15711         194.730263  \n",
       "15712           3.509649  \n",
       "\n",
       "[15713 rows x 5 columns]"
      ]
     },
     "execution_count": 146,
     "metadata": {},
     "output_type": "execute_result"
    }
   ],
   "source": [
    "df_final_met"
   ]
  },
  {
   "cell_type": "code",
   "execution_count": 147,
   "id": "28271ed2",
   "metadata": {},
   "outputs": [],
   "source": [
    "df_nc= pd.read_csv('/Users/santiagoolvera/Desktop/ITAM/pols_pub2/HoyNoCircula/Datos/raw/no_circula/no_circula.csv', encoding='latin-1')"
   ]
  },
  {
   "cell_type": "code",
   "execution_count": 148,
   "id": "6f408b3b",
   "metadata": {},
   "outputs": [],
   "source": [
    "df_nc['Fecha_Activacion'] = pd.to_datetime(df_nc['Fecha_Activacion'], format='mixed')\n",
    "\n",
    "df_nc['Fecha_Activacion'] = df_nc['Fecha_Activacion'].dt.date\n",
    "\n",
    "df_nc['Fecha_Desactivacion'] = pd.to_datetime(df_nc['Fecha_Desactivacion'], format='mixed')\n",
    "\n",
    "df_nc['Fecha_Desactivacion'] = df_nc['Fecha_Desactivacion'].dt.date"
   ]
  },
  {
   "cell_type": "code",
   "execution_count": 150,
   "id": "f8c8da30",
   "metadata": {},
   "outputs": [
    {
     "data": {
      "application/vnd.microsoft.datawrangler.viewer.v0+json": {
       "columns": [
        {
         "name": "index",
         "rawType": "int64",
         "type": "integer"
        },
        {
         "name": "AÃ±o",
         "rawType": "int64",
         "type": "integer"
        },
        {
         "name": "Contaminante",
         "rawType": "object",
         "type": "string"
        },
        {
         "name": "Zona",
         "rawType": "object",
         "type": "string"
        },
        {
         "name": "Valor_Activacion",
         "rawType": "object",
         "type": "string"
        },
        {
         "name": "Unidad",
         "rawType": "object",
         "type": "string"
        },
        {
         "name": "Estacion",
         "rawType": "object",
         "type": "string"
        },
        {
         "name": "Dia_Semana",
         "rawType": "object",
         "type": "string"
        },
        {
         "name": "Fecha_Activacion",
         "rawType": "object",
         "type": "unknown"
        },
        {
         "name": "Hora_Activacion",
         "rawType": "object",
         "type": "string"
        },
        {
         "name": "Fase",
         "rawType": "object",
         "type": "string"
        },
        {
         "name": "Valor_Maximo",
         "rawType": "object",
         "type": "unknown"
        },
        {
         "name": "Estacion_Maximo",
         "rawType": "object",
         "type": "unknown"
        },
        {
         "name": "Fecha_Maximo",
         "rawType": "object",
         "type": "unknown"
        },
        {
         "name": "Hora_Maximo",
         "rawType": "object",
         "type": "unknown"
        },
        {
         "name": "Fecha_Desactivacion",
         "rawType": "object",
         "type": "unknown"
        },
        {
         "name": "Hora_Desactivacion",
         "rawType": "object",
         "type": "unknown"
        },
        {
         "name": "Valor_Desactivacion",
         "rawType": "object",
         "type": "unknown"
        }
       ],
       "conversionMethod": "pd.DataFrame",
       "ref": "8de561a9-4510-4fb4-8f86-03c032cf0b35",
       "rows": [
        [
         "0",
         "2024",
         "Ozono",
         "SO",
         "160",
         "Âµg/mÂ³o ppb",
         "Centro de Ciencias de la AtmÃ³sfera",
         "Jueves",
         "2024-05-30",
         "15:00",
         "I",
         "160",
         "Centro de Ciencias de la AtmÃ³sfera",
         "30/05/2024",
         "15:00",
         "2024-05-31",
         "15:00",
         "120"
        ],
        [
         "1",
         "2024",
         "Ozono",
         "SE",
         "174",
         "Âµg/mÂ³o ppb",
         "UAM-Xochimilco",
         "SÃ¡bado",
         "2024-05-25",
         "14:00",
         "I",
         "174",
         "UAM-Xochimilco",
         "25/05/2024",
         "14:00",
         "2024-05-26",
         "17:00",
         "117"
        ],
        [
         "2",
         "2024",
         "Ozono",
         "CE",
         "158",
         "Âµg/mÂ³o ppb",
         "Benito JuÃ¡rez",
         "MiÃ©rcoles",
         "2024-05-22",
         "14:00",
         "I",
         "170",
         "UAM-Xochimilco",
         "22/05/2024",
         "15:00",
         "2024-05-24",
         "18:00",
         "105"
        ],
        [
         "3",
         "2024",
         "Ozono",
         "SO",
         "160",
         "Âµg/mÂ³o ppb",
         "Centro de Ciencias de la AtmÃ³sfera",
         "SÃ¡bado",
         "2024-05-18",
         "14:00",
         "I",
         "165",
         "Centro de Ciencias de la Atmosfera",
         "18/05/2024",
         "15:00",
         "2024-05-19",
         "15:00",
         "120"
        ],
        [
         "4",
         "2024",
         "Ozono",
         "SE",
         "156",
         "Âµg/mÂ³o ppb",
         "UAM-Iztapalapa",
         "Lunes",
         "2024-05-13",
         "15:00",
         "I",
         "181",
         "CuautitlÃ¡n",
         "14/05/2024",
         "17:00",
         "2024-05-16",
         "17:00",
         "96"
        ],
        [
         "5",
         "2024",
         "Ozono",
         "NE",
         "158",
         "Âµg/mÂ³o ppb",
         "Gustavo A. Madero",
         "Jueves",
         "2024-09-05",
         "13:00",
         "I",
         "168",
         "Pedegal",
         "09/05/2024",
         "15:00",
         "2024-10-05",
         "17:00",
         "105"
        ],
        [
         "6",
         "2024",
         "Ozono",
         "NO",
         "170",
         "Âµg/mÂ³o ppb",
         "Tlalnepantla",
         "Viernes",
         "2024-03-05",
         "15:00",
         "I",
         "170",
         "Tlalnepantla",
         "03/05/2024",
         "15:00",
         "2024-04-05",
         "17:00",
         "96"
        ],
        [
         "7",
         "2024",
         "Ozono",
         "NO",
         "158",
         "Âµg/mÂ³o ppb",
         "Tlalnepantla",
         "Martes",
         "2024-04-30",
         "15:00",
         "I",
         "163",
         "TultitlÃ¡n",
         "30/04/2024",
         "17:00",
         "2024-01-05",
         "17:00",
         "113"
        ],
        [
         "8",
         "2024",
         "Ozono",
         "NO",
         "162",
         "Âµg/mÂ³o ppb",
         "Atizapan/CuautitlÃ¡n/Villa de las Flores",
         "SÃ¡bado",
         "2024-03-23",
         "16:00",
         "I",
         "162",
         "AtizapÃ¡n",
         "23/03/2024",
         "16:00",
         "2024-03-24",
         "15:00",
         "94"
        ],
        [
         "9",
         "2024",
         "Ozono",
         "NO",
         "163",
         "Âµg/mÂ³o ppb",
         "Atizapan",
         "Jueves",
         "2024-06-03",
         "15:00",
         "I",
         "179",
         "Atizapan",
         "06/03/2024",
         "16:00",
         "2024-07-03",
         "15:00",
         "111"
        ],
        [
         "10",
         "2024",
         "Ozono",
         "SO",
         "167",
         "Âµg/mÂ³o ppb",
         "Ajusco Medio",
         "Jueves",
         "2024-02-22",
         "15:00",
         "I",
         "187",
         "FES-AragÃ³n",
         "23/02/2024",
         "16:00",
         "2024-02-25",
         "15:00",
         "114"
        ],
        [
         "11",
         "2024",
         "PM2.5",
         "SE",
         "99.5",
         "Âµg/mÂ³o ppb",
         "Santiago Acahualtepec",
         "Lunes",
         "2024-01-01",
         "10:00",
         "I Regional",
         "119.5",
         "Santiago Acahualtepec",
         "01/01/2024",
         "18:00",
         "2024-01-01",
         "18:00",
         "119.5"
        ],
        [
         "12",
         "2023",
         "Ozono",
         "NO",
         "161",
         "Âµg/mÂ³o ppb",
         "FES-AcatlÃ¡n",
         "SÃ¡bado",
         "2023-03-25",
         "16:00",
         "I",
         "161",
         "FES-AcatlÃ¡n",
         "25/03/2023",
         "16:00",
         "2023-03-27",
         "18:00",
         "105"
        ],
        [
         "13",
         "2023",
         "Ozono",
         "SO",
         "155",
         "Âµg/mÂ³o ppb",
         "Ajusco Medio",
         "Jueves",
         "2023-02-23",
         "15:00",
         "I",
         "171",
         "Ajusco Medio",
         "23/02/2023",
         "16:00",
         "2023-02-24",
         "18:00",
         "113"
        ],
        [
         "14",
         "2023",
         "PM2.5",
         "SE",
         "104",
         "Âµg/mÂ³o ppb",
         "Santiago Acahualtepec",
         "Domingo",
         "2023-01-01",
         "11:00",
         "I Regional",
         "109",
         "Santiago Acahualtepec",
         "01/01/2023",
         "15:00",
         "2023-01-01",
         "16:00",
         "108"
        ],
        [
         "15",
         "2022",
         "Ozono",
         "SO",
         "155",
         "Âµg/mÂ³o ppb",
         "Centro de Ciencias de la AtmÃ³sfera",
         "SÃ¡bado",
         "2022-12-11",
         "15:00",
         "I",
         "163",
         "Ajusco Medio",
         "12/11/2022",
         "17:00",
         "2022-11-14",
         "17:00",
         "121"
        ],
        [
         "16",
         "2022",
         "Ozono",
         "SO",
         "156",
         "Âµg/mÂ³o ppb",
         "Santa Fe",
         "Martes",
         "2022-07-06",
         "17:00",
         "I",
         "156",
         "Santa Fe",
         "07/06/2022",
         "17:00",
         "2022-08-06",
         "15:00",
         "115"
        ],
        [
         "17",
         "2022",
         "Ozono",
         "SO",
         "160",
         "Âµg/mÂ³o ppb",
         "Cuajimalpa",
         "Viernes",
         "2022-05-20",
         "15:00",
         "I",
         "172",
         "Santa Fe",
         "20/05/2022",
         "16:00",
         "2022-05-21",
         "17:00",
         "142"
        ],
        [
         "18",
         "2022",
         "Ozono",
         "CE",
         "168",
         "Âµg/mÂ³o ppb",
         "Benito JuÃ¡rez",
         "Jueves",
         "2022-05-05",
         "16:00",
         "I",
         "168",
         "Benito JuÃ¡rez",
         "05/05/2022",
         "16:00",
         "2022-06-05",
         "20:00",
         "94"
        ],
        [
         "19",
         "2022",
         "Ozono",
         "CE/SO",
         "169",
         "Âµg/mÂ³o ppb",
         "Benito JuÃ¡rez/Centro de Ciencias de la AtmÃ³sfera",
         "Lunes",
         "2022-02-05",
         "17:00",
         "I",
         "169",
         "Benito JuÃ¡rez/Centro de Ciencias de la AtmÃ³sfera",
         "02/05/2022",
         "17:00",
         "2022-04-05",
         "20:00",
         "90"
        ],
        [
         "20",
         "2022",
         "Ozono",
         "SO",
         "162",
         "Âµg/mÂ³o ppb",
         "Santa Fe",
         "Martes",
         "2022-03-29",
         "16:00",
         "I",
         "162",
         "Santa Fe",
         "29/03/2022",
         "16:00",
         "2022-03-30",
         "17:00",
         "100"
        ],
        [
         "21",
         "2021",
         "PM2.5",
         "SE",
         "99.9",
         "Âµg/mÂ³o ppb",
         "Santiago Acahualtepec",
         "SÃ¡bado",
         "2021-12-25",
         "11:00",
         "I Regional",
         "107.2",
         "Santiago Acahualtepec",
         "25/12/2021",
         "15:00",
         "2021-12-26",
         "03:00",
         "93.1"
        ],
        [
         "22",
         "2021",
         "Ozono",
         "SO",
         "157",
         "Âµg/mÂ³o ppb",
         "Centro de Ciencias de la AtmÃ³sfera",
         "Martes",
         "2021-08-06",
         "16:00",
         "I",
         "158",
         "Santa Fe",
         "08/06/2021",
         "17:00",
         "2021-08-06",
         "20:00",
         "79"
        ],
        [
         "23",
         "2021",
         "Ozono",
         "SO",
         "159",
         "Âµg/mÂ³o ppb",
         "Centro de Ciencias de la AtmÃ³sfera",
         "Lunes",
         "2021-04-26",
         "16:00",
         "I",
         "159",
         "Centro de Ciencias de la Atmosfera",
         "26/04/2021",
         "16:00",
         "2021-04-27",
         "18:00",
         "119"
        ],
        [
         "24",
         "2021",
         "Ozono",
         "NO",
         "160",
         "Âµg/mÂ³o ppb",
         "TultitlÃ¡n",
         "MiÃ©rcoles",
         "2021-04-21",
         "18:00",
         "I",
         "160",
         "TultitlÃ¡n",
         "21/04/2021",
         "18:00",
         "2021-04-22",
         "20:00",
         "93"
        ],
        [
         "25",
         "2020",
         "Ozono",
         "SO",
         "159",
         "Âµg/mÂ³o ppb",
         "Centro de Ciencias de la AtmÃ³sfera",
         "MiÃ©rcoles",
         "2020-11-11",
         "16:00",
         "I",
         "159",
         "Centro de Ciencias de la Atmosfera",
         "11/11/2020",
         "16:00",
         "2020-12-11",
         "20:00",
         "52"
        ],
        [
         "26",
         "2019",
         "PM2.5",
         "NE",
         "155",
         "INDICE",
         "NezahualcÃ³yotl",
         "MiÃ©rcoles",
         "2019-12-25",
         "11:00",
         "I Regional",
         "178",
         "NezahualcÃ³yotl",
         "26/12/2019",
         "01:00",
         "2019-12-26",
         "10:00",
         "116"
        ],
        [
         "27",
         "2019",
         "PM2.5 y Ozono",
         "NE/SO",
         "161/142",
         "INDICE",
         "NezahualcÃ³yotl/Pedregal",
         "Martes",
         "2019-05-14",
         "15:00",
         "Extraordinaria",
         "161/149",
         "NezahualcÃ³yotl/TulritlÃ¡n",
         "14/05/2019",
         "09:00/16:00",
         "2019-05-17",
         "19:00",
         "96/106"
        ],
        [
         "28",
         "2019",
         "Ozono",
         "NO",
         "154",
         "INDICE",
         "Camarones",
         "Martes",
         "2019-04-16",
         "17:00",
         "I",
         "154",
         "Camarones",
         "16/04/2019",
         "17:00",
         "2019-04-18",
         "15:00",
         "114"
        ],
        [
         "29",
         "2019",
         "Ozono",
         "SO",
         "152",
         "INDICE",
         "Pedregal",
         "MiÃ©rcoles",
         "2019-10-04",
         "17:00",
         "I",
         "154",
         "NezahualcÃ³yotl",
         "10/04/2019",
         "18:00",
         "2019-11-04",
         "15:00",
         "126"
        ],
        [
         "30",
         "2019",
         "Ozono",
         "SO",
         "155",
         "INDICE",
         "Pedregal",
         "SÃ¡bado",
         "2019-03-30",
         "15:00",
         "I",
         "155",
         "Pedregal",
         "30/03/2019",
         "15:00",
         "2019-03-31",
         "15:00",
         "138"
        ],
        [
         "31",
         "2019",
         "PM10",
         "NE",
         "157",
         "INDICE",
         "Villa de las Flores",
         "Martes",
         "2019-01-01",
         "09:00",
         "I Regional",
         "164",
         "Villa de las Flores",
         "01/01/2019",
         "11:00",
         "2019-02-01",
         "10:00",
         "105"
        ],
        [
         "32",
         "2018",
         "PM10",
         "NE",
         "152",
         "INDICE",
         "Villa de las Flores",
         "Martes",
         "2018-12-25",
         "11:00",
         "I Regional",
         "156",
         "Villa de las Flores",
         "25/12/2018",
         "11:00",
         "2018-12-26",
         "10:00",
         "113"
        ],
        [
         "33",
         "2018",
         "Ozono",
         "SO",
         "161",
         "INDICE",
         "Pedregal",
         "MiÃ©rcoles",
         "2018-06-06",
         "16:00",
         "I",
         "161",
         "Pedregal",
         "06/06/2018",
         "16:00",
         "2018-07-06",
         "16:00",
         "144"
        ],
        [
         "34",
         "2017",
         "PM10",
         "NE",
         "154",
         "INDICE",
         "San AgustÃ­n",
         "Jueves",
         "2017-12-14",
         "11:00",
         "I Regional",
         "162",
         "Xalostoc",
         "14/12/2017",
         "14:00",
         "2017-12-15",
         "09:00",
         "147"
        ],
        [
         "35",
         "2017",
         "Ozono",
         "NE",
         "162",
         "INDICE",
         "Gustavo A. Madero",
         "Lunes",
         "2017-05-22",
         "15:00",
         "I",
         "183",
         "Centro de Ciencias de la Atmosfera",
         "23/05/2017",
         "18:00",
         "2017-05-24",
         "18:00",
         "105"
        ],
        [
         "36",
         "2017",
         "Ozono",
         "SO",
         "151",
         "INDICE",
         "Ajusco Medio",
         "Lunes",
         "2017-05-15",
         "16:00",
         "I",
         "186",
         "Benito JuÃ¡rez",
         "20/05/2017",
         "17:00",
         "2017-05-21",
         "19:00",
         "104"
        ],
        [
         "37",
         "2017",
         "PM10",
         "NE",
         "153",
         "INDICE",
         "Xalostoc",
         "Viernes",
         "2017-06-01",
         "09:00",
         "I Regional",
         "158",
         "Xalostoc",
         "06/01/2017",
         "12:00",
         "2016-07-01",
         "09:00",
         "132"
        ],
        [
         "38",
         "2016",
         "Ozono",
         "SO",
         "151",
         "INDICE",
         "Ajusco Medio",
         "Jueves",
         "2016-11-08",
         "16:00",
         "I",
         "158",
         "Ajusco Medio",
         "11/08/2016",
         "17:00",
         "2016-12-08",
         "17:00",
         "127"
        ],
        [
         "39",
         "2016",
         "Ozono",
         "SO",
         "152",
         "INDICE",
         "Santa Fe",
         "Viernes",
         "2016-08-07",
         "17:00",
         "I",
         "152",
         "Santa Fe",
         "08/07/2016",
         "17:00",
         "2016-09-07",
         "15:00",
         "88"
        ],
        [
         "40",
         "2016",
         "Ozono",
         "SO",
         "155",
         "INDICE",
         "Miguel Hidalgo",
         "Martes",
         "2016-05-31",
         "16:00",
         "I",
         "161",
         "Santa Fe",
         "31/05/2016",
         "17:00",
         "2016-01-06",
         "18:00",
         "115"
        ],
        [
         "41",
         "2016",
         "Ozono",
         "NE",
         "165",
         "INDICE",
         "Gustavo A. Madero",
         "Viernes",
         "2016-05-27",
         "15:00",
         "I",
         "165",
         "Gustavo A. Madero",
         "27/05/2016",
         "15:00",
         "2016-05-28",
         "18:00",
         "109"
        ],
        [
         "42",
         "2016",
         "Ozono",
         "NO",
         "151",
         "INDICE",
         "Camarones",
         "Martes",
         "2016-05-24",
         "15:00",
         "I",
         "151",
         "Camarones",
         "24/05/2016",
         "15:00",
         "2016-05-24",
         "21:00",
         "49"
        ],
        [
         "43",
         "2016",
         "Ozono",
         "SO",
         "178",
         "INDICE",
         "Santa Fe",
         "Viernes",
         "2016-05-20",
         "15:00",
         "I",
         "188",
         "Cuajimalpa",
         "20/05/2016",
         "16:00",
         "2016-05-21",
         "17:00",
         "133"
        ],
        [
         "44",
         "2016",
         "Ozono",
         "SE",
         "157",
         "INDICE",
         "TlÃ¡huac",
         "SÃ¡bado",
         "2016-05-14",
         "17:00",
         "I",
         "157",
         "TlÃ¡huac",
         "14/05/2016",
         "17:00",
         "2016-05-15",
         "15:00",
         "69"
        ],
        [
         "45",
         "2016",
         "Ozono",
         "CE",
         "161",
         "INDICE",
         "Benito JuÃ¡rez",
         "Lunes",
         "2016-02-05",
         "15:00",
         "I",
         "192",
         "Ajusco Medio",
         "04/05/2016",
         "16:00",
         "2016-05-05",
         "17:00",
         "127"
        ],
        [
         "46",
         "2016",
         "Ozono",
         "SO",
         "156",
         "INDICE",
         "Ajusco",
         "Martes",
         "2016-05-04",
         "17:00",
         "I",
         "156",
         "Ajusco",
         "05/04/2016",
         "17:00",
         "2016-06-04",
         "17:00",
         "127"
        ],
        [
         "47",
         "2016",
         "Ozono",
         "SO",
         "194",
         "INDICE",
         "Cuajimalpa",
         "Lunes",
         "2016-03-14",
         "16:00",
         "I",
         "203",
         "Cuajimalpa",
         "14/03/2016",
         "17:00",
         "2016-03-17",
         "16:00",
         "136"
        ],
        [
         "48",
         "2005",
         "PM10",
         "NE",
         "181",
         "INDICE",
         "Villa de las Flores",
         "SÃ¡bado",
         "2005-01-01",
         "08:00",
         "I Regional",
         "197",
         "Viila de las Flores",
         "01/01/2005",
         "15:00",
         "2005-02-01",
         "08:00",
         "90"
        ],
        [
         "49",
         "2003",
         "PM10",
         "NE",
         "176",
         "INDICE",
         "Xalostoc",
         "Jueves",
         "2003-12-25",
         "12:00",
         "I Regional",
         "190",
         "Xalostoc",
         "25/12/2003",
         "22:00",
         "2003-12-26",
         "12:00",
         "126"
        ]
       ],
       "shape": {
        "columns": 17,
        "rows": 97
       }
      },
      "text/html": [
       "<div>\n",
       "<style scoped>\n",
       "    .dataframe tbody tr th:only-of-type {\n",
       "        vertical-align: middle;\n",
       "    }\n",
       "\n",
       "    .dataframe tbody tr th {\n",
       "        vertical-align: top;\n",
       "    }\n",
       "\n",
       "    .dataframe thead th {\n",
       "        text-align: right;\n",
       "    }\n",
       "</style>\n",
       "<table border=\"1\" class=\"dataframe\">\n",
       "  <thead>\n",
       "    <tr style=\"text-align: right;\">\n",
       "      <th></th>\n",
       "      <th>AÃ±o</th>\n",
       "      <th>Contaminante</th>\n",
       "      <th>Zona</th>\n",
       "      <th>Valor_Activacion</th>\n",
       "      <th>Unidad</th>\n",
       "      <th>Estacion</th>\n",
       "      <th>Dia_Semana</th>\n",
       "      <th>Fecha_Activacion</th>\n",
       "      <th>Hora_Activacion</th>\n",
       "      <th>Fase</th>\n",
       "      <th>Valor_Maximo</th>\n",
       "      <th>Estacion_Maximo</th>\n",
       "      <th>Fecha_Maximo</th>\n",
       "      <th>Hora_Maximo</th>\n",
       "      <th>Fecha_Desactivacion</th>\n",
       "      <th>Hora_Desactivacion</th>\n",
       "      <th>Valor_Desactivacion</th>\n",
       "    </tr>\n",
       "  </thead>\n",
       "  <tbody>\n",
       "    <tr>\n",
       "      <th>0</th>\n",
       "      <td>2024</td>\n",
       "      <td>Ozono</td>\n",
       "      <td>SO</td>\n",
       "      <td>160</td>\n",
       "      <td>Âµg/mÂ³o ppb</td>\n",
       "      <td>Centro de Ciencias de la AtmÃ³sfera</td>\n",
       "      <td>Jueves</td>\n",
       "      <td>2024-05-30</td>\n",
       "      <td>15:00</td>\n",
       "      <td>I</td>\n",
       "      <td>160</td>\n",
       "      <td>Centro de Ciencias de la AtmÃ³sfera</td>\n",
       "      <td>30/05/2024</td>\n",
       "      <td>15:00</td>\n",
       "      <td>2024-05-31</td>\n",
       "      <td>15:00</td>\n",
       "      <td>120</td>\n",
       "    </tr>\n",
       "    <tr>\n",
       "      <th>1</th>\n",
       "      <td>2024</td>\n",
       "      <td>Ozono</td>\n",
       "      <td>SE</td>\n",
       "      <td>174</td>\n",
       "      <td>Âµg/mÂ³o ppb</td>\n",
       "      <td>UAM-Xochimilco</td>\n",
       "      <td>SÃ¡bado</td>\n",
       "      <td>2024-05-25</td>\n",
       "      <td>14:00</td>\n",
       "      <td>I</td>\n",
       "      <td>174</td>\n",
       "      <td>UAM-Xochimilco</td>\n",
       "      <td>25/05/2024</td>\n",
       "      <td>14:00</td>\n",
       "      <td>2024-05-26</td>\n",
       "      <td>17:00</td>\n",
       "      <td>117</td>\n",
       "    </tr>\n",
       "    <tr>\n",
       "      <th>2</th>\n",
       "      <td>2024</td>\n",
       "      <td>Ozono</td>\n",
       "      <td>CE</td>\n",
       "      <td>158</td>\n",
       "      <td>Âµg/mÂ³o ppb</td>\n",
       "      <td>Benito JuÃ¡rez</td>\n",
       "      <td>MiÃ©rcoles</td>\n",
       "      <td>2024-05-22</td>\n",
       "      <td>14:00</td>\n",
       "      <td>I</td>\n",
       "      <td>170</td>\n",
       "      <td>UAM-Xochimilco</td>\n",
       "      <td>22/05/2024</td>\n",
       "      <td>15:00</td>\n",
       "      <td>2024-05-24</td>\n",
       "      <td>18:00</td>\n",
       "      <td>105</td>\n",
       "    </tr>\n",
       "    <tr>\n",
       "      <th>3</th>\n",
       "      <td>2024</td>\n",
       "      <td>Ozono</td>\n",
       "      <td>SO</td>\n",
       "      <td>160</td>\n",
       "      <td>Âµg/mÂ³o ppb</td>\n",
       "      <td>Centro de Ciencias de la AtmÃ³sfera</td>\n",
       "      <td>SÃ¡bado</td>\n",
       "      <td>2024-05-18</td>\n",
       "      <td>14:00</td>\n",
       "      <td>I</td>\n",
       "      <td>165</td>\n",
       "      <td>Centro de Ciencias de la Atmosfera</td>\n",
       "      <td>18/05/2024</td>\n",
       "      <td>15:00</td>\n",
       "      <td>2024-05-19</td>\n",
       "      <td>15:00</td>\n",
       "      <td>120</td>\n",
       "    </tr>\n",
       "    <tr>\n",
       "      <th>4</th>\n",
       "      <td>2024</td>\n",
       "      <td>Ozono</td>\n",
       "      <td>SE</td>\n",
       "      <td>156</td>\n",
       "      <td>Âµg/mÂ³o ppb</td>\n",
       "      <td>UAM-Iztapalapa</td>\n",
       "      <td>Lunes</td>\n",
       "      <td>2024-05-13</td>\n",
       "      <td>15:00</td>\n",
       "      <td>I</td>\n",
       "      <td>181</td>\n",
       "      <td>CuautitlÃ¡n</td>\n",
       "      <td>14/05/2024</td>\n",
       "      <td>17:00</td>\n",
       "      <td>2024-05-16</td>\n",
       "      <td>17:00</td>\n",
       "      <td>96</td>\n",
       "    </tr>\n",
       "    <tr>\n",
       "      <th>...</th>\n",
       "      <td>...</td>\n",
       "      <td>...</td>\n",
       "      <td>...</td>\n",
       "      <td>...</td>\n",
       "      <td>...</td>\n",
       "      <td>...</td>\n",
       "      <td>...</td>\n",
       "      <td>...</td>\n",
       "      <td>...</td>\n",
       "      <td>...</td>\n",
       "      <td>...</td>\n",
       "      <td>...</td>\n",
       "      <td>...</td>\n",
       "      <td>...</td>\n",
       "      <td>...</td>\n",
       "      <td>...</td>\n",
       "      <td>...</td>\n",
       "    </tr>\n",
       "    <tr>\n",
       "      <th>92</th>\n",
       "      <td>1991</td>\n",
       "      <td>Ozono</td>\n",
       "      <td>SO</td>\n",
       "      <td>340</td>\n",
       "      <td>INDICE</td>\n",
       "      <td>Pedregal</td>\n",
       "      <td>MiÃ©rcoles</td>\n",
       "      <td>1991-10-23</td>\n",
       "      <td>14:00</td>\n",
       "      <td>II</td>\n",
       "      <td>340</td>\n",
       "      <td>Pedregal</td>\n",
       "      <td>23/10/1991</td>\n",
       "      <td>13:00</td>\n",
       "      <td>1991-10-25</td>\n",
       "      <td>16:00</td>\n",
       "      <td>179</td>\n",
       "    </tr>\n",
       "    <tr>\n",
       "      <th>93</th>\n",
       "      <td>1991</td>\n",
       "      <td>Ozono</td>\n",
       "      <td>SO</td>\n",
       "      <td>267</td>\n",
       "      <td>INDICE</td>\n",
       "      <td>Plateros</td>\n",
       "      <td>MiÃ©rcoles</td>\n",
       "      <td>1991-06-03</td>\n",
       "      <td>12:00</td>\n",
       "      <td>I</td>\n",
       "      <td>315</td>\n",
       "      <td>ENEP AcatlÃ¡n</td>\n",
       "      <td>07/03/1991</td>\n",
       "      <td>12:00</td>\n",
       "      <td>1991-10-03</td>\n",
       "      <td>14:00</td>\n",
       "      <td>162</td>\n",
       "    </tr>\n",
       "    <tr>\n",
       "      <th>94</th>\n",
       "      <td>1991</td>\n",
       "      <td>Ozono</td>\n",
       "      <td>CE</td>\n",
       "      <td>249</td>\n",
       "      <td>INDICE</td>\n",
       "      <td>Merced</td>\n",
       "      <td>SÃ¡bado</td>\n",
       "      <td>1991-02-02</td>\n",
       "      <td>13:00</td>\n",
       "      <td>I</td>\n",
       "      <td>249</td>\n",
       "      <td>Merced</td>\n",
       "      <td>02/02/1991</td>\n",
       "      <td>13:00</td>\n",
       "      <td>1991-04-02</td>\n",
       "      <td>16:00</td>\n",
       "      <td>184</td>\n",
       "    </tr>\n",
       "    <tr>\n",
       "      <th>95</th>\n",
       "      <td>1988</td>\n",
       "      <td>Ozono</td>\n",
       "      <td>SO</td>\n",
       "      <td>298</td>\n",
       "      <td>INDICE</td>\n",
       "      <td>PED/PLA</td>\n",
       "      <td>Jueves</td>\n",
       "      <td>1988-02-25</td>\n",
       "      <td>12:00</td>\n",
       "      <td>I</td>\n",
       "      <td>298</td>\n",
       "      <td>PED/PLA</td>\n",
       "      <td>25/02/1988</td>\n",
       "      <td>13:00</td>\n",
       "      <td>1988-02-28</td>\n",
       "      <td>12:00</td>\n",
       "      <td>196</td>\n",
       "    </tr>\n",
       "    <tr>\n",
       "      <th>96</th>\n",
       "      <td>1988</td>\n",
       "      <td>Ozono</td>\n",
       "      <td>SO</td>\n",
       "      <td>233</td>\n",
       "      <td>INDICE</td>\n",
       "      <td>PED/PLA</td>\n",
       "      <td>MiÃ©rcoles</td>\n",
       "      <td>1988-03-02</td>\n",
       "      <td>12:00</td>\n",
       "      <td>I</td>\n",
       "      <td>266</td>\n",
       "      <td>PED/PLA</td>\n",
       "      <td>04/02/1988</td>\n",
       "      <td>13:00</td>\n",
       "      <td>1988-05-02</td>\n",
       "      <td>12:00</td>\n",
       "      <td>142</td>\n",
       "    </tr>\n",
       "  </tbody>\n",
       "</table>\n",
       "<p>97 rows × 17 columns</p>\n",
       "</div>"
      ],
      "text/plain": [
       "    AÃ±o Contaminante Zona Valor_Activacion        Unidad  \\\n",
       "0   2024        Ozono   SO              160  Âµg/mÂ³o ppb   \n",
       "1   2024        Ozono   SE              174  Âµg/mÂ³o ppb   \n",
       "2   2024        Ozono   CE              158  Âµg/mÂ³o ppb   \n",
       "3   2024        Ozono   SO              160  Âµg/mÂ³o ppb   \n",
       "4   2024        Ozono   SE              156  Âµg/mÂ³o ppb   \n",
       "..   ...          ...  ...              ...           ...   \n",
       "92  1991        Ozono   SO              340        INDICE   \n",
       "93  1991        Ozono   SO              267        INDICE   \n",
       "94  1991        Ozono   CE              249        INDICE   \n",
       "95  1988        Ozono   SO              298        INDICE   \n",
       "96  1988        Ozono   SO              233        INDICE   \n",
       "\n",
       "                               Estacion  Dia_Semana Fecha_Activacion  \\\n",
       "0   Centro de Ciencias de la AtmÃ³sfera      Jueves       2024-05-30   \n",
       "1                        UAM-Xochimilco     SÃ¡bado       2024-05-25   \n",
       "2                        Benito JuÃ¡rez  MiÃ©rcoles       2024-05-22   \n",
       "3   Centro de Ciencias de la AtmÃ³sfera     SÃ¡bado       2024-05-18   \n",
       "4                        UAM-Iztapalapa       Lunes       2024-05-13   \n",
       "..                                  ...         ...              ...   \n",
       "92                             Pedregal  MiÃ©rcoles       1991-10-23   \n",
       "93                             Plateros  MiÃ©rcoles       1991-06-03   \n",
       "94                               Merced     SÃ¡bado       1991-02-02   \n",
       "95                              PED/PLA      Jueves       1988-02-25   \n",
       "96                              PED/PLA  MiÃ©rcoles       1988-03-02   \n",
       "\n",
       "   Hora_Activacion Fase Valor_Maximo                      Estacion_Maximo  \\\n",
       "0            15:00    I          160  Centro de Ciencias de la AtmÃ³sfera   \n",
       "1            14:00    I          174                       UAM-Xochimilco   \n",
       "2            14:00    I          170                       UAM-Xochimilco   \n",
       "3            14:00    I          165   Centro de Ciencias de la Atmosfera   \n",
       "4            15:00    I          181                          CuautitlÃ¡n   \n",
       "..             ...  ...          ...                                  ...   \n",
       "92           14:00   II          340                             Pedregal   \n",
       "93           12:00    I          315                        ENEP AcatlÃ¡n   \n",
       "94           13:00    I          249                               Merced   \n",
       "95           12:00    I          298                              PED/PLA   \n",
       "96           12:00    I          266                              PED/PLA   \n",
       "\n",
       "   Fecha_Maximo Hora_Maximo Fecha_Desactivacion Hora_Desactivacion  \\\n",
       "0    30/05/2024       15:00          2024-05-31              15:00   \n",
       "1    25/05/2024       14:00          2024-05-26              17:00   \n",
       "2    22/05/2024       15:00          2024-05-24              18:00   \n",
       "3    18/05/2024       15:00          2024-05-19              15:00   \n",
       "4    14/05/2024       17:00          2024-05-16              17:00   \n",
       "..          ...         ...                 ...                ...   \n",
       "92   23/10/1991       13:00          1991-10-25              16:00   \n",
       "93   07/03/1991       12:00          1991-10-03              14:00   \n",
       "94   02/02/1991       13:00          1991-04-02              16:00   \n",
       "95   25/02/1988       13:00          1988-02-28              12:00   \n",
       "96   04/02/1988       13:00          1988-05-02              12:00   \n",
       "\n",
       "   Valor_Desactivacion  \n",
       "0                  120  \n",
       "1                  117  \n",
       "2                  105  \n",
       "3                  120  \n",
       "4                   96  \n",
       "..                 ...  \n",
       "92                 179  \n",
       "93                 162  \n",
       "94                 184  \n",
       "95                 196  \n",
       "96                 142  \n",
       "\n",
       "[97 rows x 17 columns]"
      ]
     },
     "execution_count": 150,
     "metadata": {},
     "output_type": "execute_result"
    }
   ],
   "source": [
    "df_nc"
   ]
  },
  {
   "cell_type": "code",
   "execution_count": 151,
   "id": "d7ebdace",
   "metadata": {},
   "outputs": [],
   "source": [
    "df_nc['Fecha_Activacion'] = pd.to_datetime(df_nc['Fecha_Activacion'], format='%Y-%m-%d').dt.strftime('%d/%m/%Y')\n",
    "\n",
    "df_nc['Fecha_Desactivacion'] = pd.to_datetime(df_nc['Fecha_Desactivacion'], format='%Y-%m-%d').dt.strftime('%d/%m/%Y')"
   ]
  },
  {
   "cell_type": "code",
   "execution_count": 155,
   "id": "3726d1c0",
   "metadata": {},
   "outputs": [
    {
     "data": {
      "application/vnd.microsoft.datawrangler.viewer.v0+json": {
       "columns": [
        {
         "name": "index",
         "rawType": "int64",
         "type": "integer"
        },
        {
         "name": "Fecha_Activacion",
         "rawType": "object",
         "type": "string"
        },
        {
         "name": "Fecha_Desactivacion",
         "rawType": "object",
         "type": "string"
        }
       ],
       "conversionMethod": "pd.DataFrame",
       "ref": "e2ffb421-4de0-4011-8d4a-67c20fc2565d",
       "rows": [
        [
         "0",
         "30/05/2024",
         "31/05/2024"
        ],
        [
         "1",
         "25/05/2024",
         "26/05/2024"
        ],
        [
         "2",
         "22/05/2024",
         "24/05/2024"
        ],
        [
         "3",
         "18/05/2024",
         "19/05/2024"
        ],
        [
         "4",
         "13/05/2024",
         "16/05/2024"
        ],
        [
         "5",
         "05/09/2024",
         "05/10/2024"
        ],
        [
         "6",
         "05/03/2024",
         "05/04/2024"
        ],
        [
         "7",
         "30/04/2024",
         "05/01/2024"
        ],
        [
         "8",
         "23/03/2024",
         "24/03/2024"
        ],
        [
         "9",
         "03/06/2024",
         "03/07/2024"
        ],
        [
         "10",
         "22/02/2024",
         "25/02/2024"
        ],
        [
         "11",
         "01/01/2024",
         "01/01/2024"
        ],
        [
         "12",
         "25/03/2023",
         "27/03/2023"
        ],
        [
         "13",
         "23/02/2023",
         "24/02/2023"
        ],
        [
         "14",
         "01/01/2023",
         "01/01/2023"
        ],
        [
         "15",
         "11/12/2022",
         "14/11/2022"
        ],
        [
         "16",
         "06/07/2022",
         "06/08/2022"
        ],
        [
         "17",
         "20/05/2022",
         "21/05/2022"
        ],
        [
         "18",
         "05/05/2022",
         "05/06/2022"
        ],
        [
         "19",
         "05/02/2022",
         "05/04/2022"
        ],
        [
         "20",
         "29/03/2022",
         "30/03/2022"
        ],
        [
         "21",
         "25/12/2021",
         "26/12/2021"
        ],
        [
         "22",
         "06/08/2021",
         "06/08/2021"
        ],
        [
         "23",
         "26/04/2021",
         "27/04/2021"
        ],
        [
         "24",
         "21/04/2021",
         "22/04/2021"
        ],
        [
         "25",
         "11/11/2020",
         "11/12/2020"
        ],
        [
         "26",
         "25/12/2019",
         "26/12/2019"
        ],
        [
         "27",
         "14/05/2019",
         "17/05/2019"
        ],
        [
         "28",
         "16/04/2019",
         "18/04/2019"
        ],
        [
         "29",
         "04/10/2019",
         "04/11/2019"
        ],
        [
         "30",
         "30/03/2019",
         "31/03/2019"
        ],
        [
         "31",
         "01/01/2019",
         "01/02/2019"
        ],
        [
         "32",
         "25/12/2018",
         "26/12/2018"
        ],
        [
         "33",
         "06/06/2018",
         "06/07/2018"
        ],
        [
         "34",
         "14/12/2017",
         "15/12/2017"
        ],
        [
         "35",
         "22/05/2017",
         "24/05/2017"
        ],
        [
         "36",
         "15/05/2017",
         "21/05/2017"
        ],
        [
         "37",
         "01/06/2017",
         "01/07/2016"
        ],
        [
         "38",
         "08/11/2016",
         "08/12/2016"
        ],
        [
         "39",
         "07/08/2016",
         "07/09/2016"
        ],
        [
         "40",
         "31/05/2016",
         "06/01/2016"
        ],
        [
         "41",
         "27/05/2016",
         "28/05/2016"
        ],
        [
         "42",
         "24/05/2016",
         "24/05/2016"
        ],
        [
         "43",
         "20/05/2016",
         "21/05/2016"
        ],
        [
         "44",
         "14/05/2016",
         "15/05/2016"
        ],
        [
         "45",
         "05/02/2016",
         "05/05/2016"
        ],
        [
         "46",
         "04/05/2016",
         "04/06/2016"
        ],
        [
         "47",
         "14/03/2016",
         "17/03/2016"
        ],
        [
         "48",
         "01/01/2005",
         "01/02/2005"
        ]
       ],
       "shape": {
        "columns": 2,
        "rows": 49
       }
      },
      "text/html": [
       "<div>\n",
       "<style scoped>\n",
       "    .dataframe tbody tr th:only-of-type {\n",
       "        vertical-align: middle;\n",
       "    }\n",
       "\n",
       "    .dataframe tbody tr th {\n",
       "        vertical-align: top;\n",
       "    }\n",
       "\n",
       "    .dataframe thead th {\n",
       "        text-align: right;\n",
       "    }\n",
       "</style>\n",
       "<table border=\"1\" class=\"dataframe\">\n",
       "  <thead>\n",
       "    <tr style=\"text-align: right;\">\n",
       "      <th></th>\n",
       "      <th>Fecha_Activacion</th>\n",
       "      <th>Fecha_Desactivacion</th>\n",
       "    </tr>\n",
       "  </thead>\n",
       "  <tbody>\n",
       "    <tr>\n",
       "      <th>0</th>\n",
       "      <td>30/05/2024</td>\n",
       "      <td>31/05/2024</td>\n",
       "    </tr>\n",
       "    <tr>\n",
       "      <th>1</th>\n",
       "      <td>25/05/2024</td>\n",
       "      <td>26/05/2024</td>\n",
       "    </tr>\n",
       "    <tr>\n",
       "      <th>2</th>\n",
       "      <td>22/05/2024</td>\n",
       "      <td>24/05/2024</td>\n",
       "    </tr>\n",
       "    <tr>\n",
       "      <th>3</th>\n",
       "      <td>18/05/2024</td>\n",
       "      <td>19/05/2024</td>\n",
       "    </tr>\n",
       "    <tr>\n",
       "      <th>4</th>\n",
       "      <td>13/05/2024</td>\n",
       "      <td>16/05/2024</td>\n",
       "    </tr>\n",
       "    <tr>\n",
       "      <th>5</th>\n",
       "      <td>05/09/2024</td>\n",
       "      <td>05/10/2024</td>\n",
       "    </tr>\n",
       "    <tr>\n",
       "      <th>6</th>\n",
       "      <td>05/03/2024</td>\n",
       "      <td>05/04/2024</td>\n",
       "    </tr>\n",
       "    <tr>\n",
       "      <th>7</th>\n",
       "      <td>30/04/2024</td>\n",
       "      <td>05/01/2024</td>\n",
       "    </tr>\n",
       "    <tr>\n",
       "      <th>8</th>\n",
       "      <td>23/03/2024</td>\n",
       "      <td>24/03/2024</td>\n",
       "    </tr>\n",
       "    <tr>\n",
       "      <th>9</th>\n",
       "      <td>03/06/2024</td>\n",
       "      <td>03/07/2024</td>\n",
       "    </tr>\n",
       "    <tr>\n",
       "      <th>10</th>\n",
       "      <td>22/02/2024</td>\n",
       "      <td>25/02/2024</td>\n",
       "    </tr>\n",
       "    <tr>\n",
       "      <th>11</th>\n",
       "      <td>01/01/2024</td>\n",
       "      <td>01/01/2024</td>\n",
       "    </tr>\n",
       "    <tr>\n",
       "      <th>12</th>\n",
       "      <td>25/03/2023</td>\n",
       "      <td>27/03/2023</td>\n",
       "    </tr>\n",
       "    <tr>\n",
       "      <th>13</th>\n",
       "      <td>23/02/2023</td>\n",
       "      <td>24/02/2023</td>\n",
       "    </tr>\n",
       "    <tr>\n",
       "      <th>14</th>\n",
       "      <td>01/01/2023</td>\n",
       "      <td>01/01/2023</td>\n",
       "    </tr>\n",
       "    <tr>\n",
       "      <th>15</th>\n",
       "      <td>11/12/2022</td>\n",
       "      <td>14/11/2022</td>\n",
       "    </tr>\n",
       "    <tr>\n",
       "      <th>16</th>\n",
       "      <td>06/07/2022</td>\n",
       "      <td>06/08/2022</td>\n",
       "    </tr>\n",
       "    <tr>\n",
       "      <th>17</th>\n",
       "      <td>20/05/2022</td>\n",
       "      <td>21/05/2022</td>\n",
       "    </tr>\n",
       "    <tr>\n",
       "      <th>18</th>\n",
       "      <td>05/05/2022</td>\n",
       "      <td>05/06/2022</td>\n",
       "    </tr>\n",
       "    <tr>\n",
       "      <th>19</th>\n",
       "      <td>05/02/2022</td>\n",
       "      <td>05/04/2022</td>\n",
       "    </tr>\n",
       "    <tr>\n",
       "      <th>20</th>\n",
       "      <td>29/03/2022</td>\n",
       "      <td>30/03/2022</td>\n",
       "    </tr>\n",
       "    <tr>\n",
       "      <th>21</th>\n",
       "      <td>25/12/2021</td>\n",
       "      <td>26/12/2021</td>\n",
       "    </tr>\n",
       "    <tr>\n",
       "      <th>22</th>\n",
       "      <td>06/08/2021</td>\n",
       "      <td>06/08/2021</td>\n",
       "    </tr>\n",
       "    <tr>\n",
       "      <th>23</th>\n",
       "      <td>26/04/2021</td>\n",
       "      <td>27/04/2021</td>\n",
       "    </tr>\n",
       "    <tr>\n",
       "      <th>24</th>\n",
       "      <td>21/04/2021</td>\n",
       "      <td>22/04/2021</td>\n",
       "    </tr>\n",
       "    <tr>\n",
       "      <th>25</th>\n",
       "      <td>11/11/2020</td>\n",
       "      <td>11/12/2020</td>\n",
       "    </tr>\n",
       "    <tr>\n",
       "      <th>26</th>\n",
       "      <td>25/12/2019</td>\n",
       "      <td>26/12/2019</td>\n",
       "    </tr>\n",
       "    <tr>\n",
       "      <th>27</th>\n",
       "      <td>14/05/2019</td>\n",
       "      <td>17/05/2019</td>\n",
       "    </tr>\n",
       "    <tr>\n",
       "      <th>28</th>\n",
       "      <td>16/04/2019</td>\n",
       "      <td>18/04/2019</td>\n",
       "    </tr>\n",
       "    <tr>\n",
       "      <th>29</th>\n",
       "      <td>04/10/2019</td>\n",
       "      <td>04/11/2019</td>\n",
       "    </tr>\n",
       "    <tr>\n",
       "      <th>30</th>\n",
       "      <td>30/03/2019</td>\n",
       "      <td>31/03/2019</td>\n",
       "    </tr>\n",
       "    <tr>\n",
       "      <th>31</th>\n",
       "      <td>01/01/2019</td>\n",
       "      <td>01/02/2019</td>\n",
       "    </tr>\n",
       "    <tr>\n",
       "      <th>32</th>\n",
       "      <td>25/12/2018</td>\n",
       "      <td>26/12/2018</td>\n",
       "    </tr>\n",
       "    <tr>\n",
       "      <th>33</th>\n",
       "      <td>06/06/2018</td>\n",
       "      <td>06/07/2018</td>\n",
       "    </tr>\n",
       "    <tr>\n",
       "      <th>34</th>\n",
       "      <td>14/12/2017</td>\n",
       "      <td>15/12/2017</td>\n",
       "    </tr>\n",
       "    <tr>\n",
       "      <th>35</th>\n",
       "      <td>22/05/2017</td>\n",
       "      <td>24/05/2017</td>\n",
       "    </tr>\n",
       "    <tr>\n",
       "      <th>36</th>\n",
       "      <td>15/05/2017</td>\n",
       "      <td>21/05/2017</td>\n",
       "    </tr>\n",
       "    <tr>\n",
       "      <th>37</th>\n",
       "      <td>01/06/2017</td>\n",
       "      <td>01/07/2016</td>\n",
       "    </tr>\n",
       "    <tr>\n",
       "      <th>38</th>\n",
       "      <td>08/11/2016</td>\n",
       "      <td>08/12/2016</td>\n",
       "    </tr>\n",
       "    <tr>\n",
       "      <th>39</th>\n",
       "      <td>07/08/2016</td>\n",
       "      <td>07/09/2016</td>\n",
       "    </tr>\n",
       "    <tr>\n",
       "      <th>40</th>\n",
       "      <td>31/05/2016</td>\n",
       "      <td>06/01/2016</td>\n",
       "    </tr>\n",
       "    <tr>\n",
       "      <th>41</th>\n",
       "      <td>27/05/2016</td>\n",
       "      <td>28/05/2016</td>\n",
       "    </tr>\n",
       "    <tr>\n",
       "      <th>42</th>\n",
       "      <td>24/05/2016</td>\n",
       "      <td>24/05/2016</td>\n",
       "    </tr>\n",
       "    <tr>\n",
       "      <th>43</th>\n",
       "      <td>20/05/2016</td>\n",
       "      <td>21/05/2016</td>\n",
       "    </tr>\n",
       "    <tr>\n",
       "      <th>44</th>\n",
       "      <td>14/05/2016</td>\n",
       "      <td>15/05/2016</td>\n",
       "    </tr>\n",
       "    <tr>\n",
       "      <th>45</th>\n",
       "      <td>05/02/2016</td>\n",
       "      <td>05/05/2016</td>\n",
       "    </tr>\n",
       "    <tr>\n",
       "      <th>46</th>\n",
       "      <td>04/05/2016</td>\n",
       "      <td>04/06/2016</td>\n",
       "    </tr>\n",
       "    <tr>\n",
       "      <th>47</th>\n",
       "      <td>14/03/2016</td>\n",
       "      <td>17/03/2016</td>\n",
       "    </tr>\n",
       "    <tr>\n",
       "      <th>48</th>\n",
       "      <td>01/01/2005</td>\n",
       "      <td>01/02/2005</td>\n",
       "    </tr>\n",
       "  </tbody>\n",
       "</table>\n",
       "</div>"
      ],
      "text/plain": [
       "   Fecha_Activacion Fecha_Desactivacion\n",
       "0        30/05/2024          31/05/2024\n",
       "1        25/05/2024          26/05/2024\n",
       "2        22/05/2024          24/05/2024\n",
       "3        18/05/2024          19/05/2024\n",
       "4        13/05/2024          16/05/2024\n",
       "5        05/09/2024          05/10/2024\n",
       "6        05/03/2024          05/04/2024\n",
       "7        30/04/2024          05/01/2024\n",
       "8        23/03/2024          24/03/2024\n",
       "9        03/06/2024          03/07/2024\n",
       "10       22/02/2024          25/02/2024\n",
       "11       01/01/2024          01/01/2024\n",
       "12       25/03/2023          27/03/2023\n",
       "13       23/02/2023          24/02/2023\n",
       "14       01/01/2023          01/01/2023\n",
       "15       11/12/2022          14/11/2022\n",
       "16       06/07/2022          06/08/2022\n",
       "17       20/05/2022          21/05/2022\n",
       "18       05/05/2022          05/06/2022\n",
       "19       05/02/2022          05/04/2022\n",
       "20       29/03/2022          30/03/2022\n",
       "21       25/12/2021          26/12/2021\n",
       "22       06/08/2021          06/08/2021\n",
       "23       26/04/2021          27/04/2021\n",
       "24       21/04/2021          22/04/2021\n",
       "25       11/11/2020          11/12/2020\n",
       "26       25/12/2019          26/12/2019\n",
       "27       14/05/2019          17/05/2019\n",
       "28       16/04/2019          18/04/2019\n",
       "29       04/10/2019          04/11/2019\n",
       "30       30/03/2019          31/03/2019\n",
       "31       01/01/2019          01/02/2019\n",
       "32       25/12/2018          26/12/2018\n",
       "33       06/06/2018          06/07/2018\n",
       "34       14/12/2017          15/12/2017\n",
       "35       22/05/2017          24/05/2017\n",
       "36       15/05/2017          21/05/2017\n",
       "37       01/06/2017          01/07/2016\n",
       "38       08/11/2016          08/12/2016\n",
       "39       07/08/2016          07/09/2016\n",
       "40       31/05/2016          06/01/2016\n",
       "41       27/05/2016          28/05/2016\n",
       "42       24/05/2016          24/05/2016\n",
       "43       20/05/2016          21/05/2016\n",
       "44       14/05/2016          15/05/2016\n",
       "45       05/02/2016          05/05/2016\n",
       "46       04/05/2016          04/06/2016\n",
       "47       14/03/2016          17/03/2016\n",
       "48       01/01/2005          01/02/2005"
      ]
     },
     "execution_count": 155,
     "metadata": {},
     "output_type": "execute_result"
    }
   ],
   "source": [
    "df_nc[['Fecha_Activacion', 'Fecha_Desactivacion']] "
   ]
  },
  {
   "cell_type": "code",
   "execution_count": 154,
   "id": "9dcde987",
   "metadata": {},
   "outputs": [],
   "source": [
    "df_nc=df_nc.head(49)"
   ]
  },
  {
   "cell_type": "code",
   "execution_count": 156,
   "id": "0256458d",
   "metadata": {},
   "outputs": [],
   "source": [
    "# Expandimos las fechas por fila\n",
    "rows = []\n",
    "for _, row in df_nc.iterrows():\n",
    "    start = row['Fecha_Activacion'] \n",
    "    end = row['Fecha_Desactivacion']\n",
    "    fechas = pd.date_range(start=start, end=end)\n",
    "    for fecha in fechas:\n",
    "        rows.append({'Fecha_Intermedia': fecha})\n",
    "\n",
    "# Creamos el nuevo DataFrame\n",
    "df_resultado = pd.DataFrame(rows)"
   ]
  },
  {
   "cell_type": "code",
   "execution_count": 161,
   "id": "11566edd",
   "metadata": {},
   "outputs": [],
   "source": [
    "df_resultado.columns = ['Doble No Circula']"
   ]
  },
  {
   "cell_type": "code",
   "execution_count": 162,
   "id": "497b0158",
   "metadata": {},
   "outputs": [],
   "source": [
    "df_resultado['Doble No Circula'] = pd.to_datetime(df_resultado['Doble No Circula'], format='mixed')\n",
    "\n",
    "df_resultado['Doble No Circula'] = df_resultado['Doble No Circula'].dt.date"
   ]
  },
  {
   "cell_type": "code",
   "execution_count": 163,
   "id": "35dcbc75",
   "metadata": {},
   "outputs": [],
   "source": [
    "df_resultado['Doble No Circula'] = pd.to_datetime(df_resultado['Doble No Circula'], format='%Y-%m-%d').dt.strftime('%d/%m/%Y')"
   ]
  },
  {
   "cell_type": "code",
   "execution_count": 165,
   "id": "e748731d",
   "metadata": {},
   "outputs": [
    {
     "data": {
      "application/vnd.microsoft.datawrangler.viewer.v0+json": {
       "columns": [
        {
         "name": "index",
         "rawType": "int64",
         "type": "integer"
        },
        {
         "name": "Doble No Circula",
         "rawType": "object",
         "type": "string"
        }
       ],
       "conversionMethod": "pd.DataFrame",
       "ref": "22c3994e-f25b-4b7b-8a58-e0531b8f9902",
       "rows": [
        [
         "0",
         "30/05/2024"
        ],
        [
         "1",
         "31/05/2024"
        ],
        [
         "2",
         "25/05/2024"
        ],
        [
         "3",
         "26/05/2024"
        ],
        [
         "4",
         "22/05/2024"
        ],
        [
         "5",
         "23/05/2024"
        ],
        [
         "6",
         "24/05/2024"
        ],
        [
         "7",
         "18/05/2024"
        ],
        [
         "8",
         "19/05/2024"
        ],
        [
         "9",
         "13/05/2024"
        ],
        [
         "10",
         "14/05/2024"
        ],
        [
         "11",
         "15/05/2024"
        ],
        [
         "12",
         "16/05/2024"
        ],
        [
         "13",
         "09/05/2024"
        ],
        [
         "14",
         "10/05/2024"
        ],
        [
         "15",
         "03/05/2024"
        ],
        [
         "16",
         "04/05/2024"
        ],
        [
         "17",
         "30/04/2024"
        ],
        [
         "18",
         "01/05/2024"
        ],
        [
         "19",
         "23/03/2024"
        ],
        [
         "20",
         "24/03/2024"
        ],
        [
         "21",
         "06/03/2024"
        ],
        [
         "22",
         "07/03/2024"
        ],
        [
         "23",
         "22/02/2024"
        ],
        [
         "24",
         "23/02/2024"
        ],
        [
         "25",
         "24/02/2024"
        ],
        [
         "26",
         "25/02/2024"
        ],
        [
         "27",
         "01/01/2024"
        ],
        [
         "28",
         "25/03/2023"
        ],
        [
         "29",
         "26/03/2023"
        ],
        [
         "30",
         "27/03/2023"
        ],
        [
         "31",
         "23/02/2023"
        ],
        [
         "32",
         "24/02/2023"
        ],
        [
         "33",
         "01/01/2023"
        ],
        [
         "34",
         "12/11/2022"
        ],
        [
         "35",
         "13/11/2022"
        ],
        [
         "36",
         "14/11/2022"
        ],
        [
         "37",
         "07/06/2022"
        ],
        [
         "38",
         "08/06/2022"
        ],
        [
         "39",
         "20/05/2022"
        ],
        [
         "40",
         "21/05/2022"
        ],
        [
         "41",
         "05/05/2022"
        ],
        [
         "42",
         "06/05/2022"
        ],
        [
         "43",
         "02/05/2022"
        ],
        [
         "44",
         "03/05/2022"
        ],
        [
         "45",
         "04/05/2022"
        ],
        [
         "46",
         "29/03/2022"
        ],
        [
         "47",
         "30/03/2022"
        ],
        [
         "48",
         "25/12/2021"
        ],
        [
         "49",
         "26/12/2021"
        ]
       ],
       "shape": {
        "columns": 1,
        "rows": 113
       }
      },
      "text/html": [
       "<div>\n",
       "<style scoped>\n",
       "    .dataframe tbody tr th:only-of-type {\n",
       "        vertical-align: middle;\n",
       "    }\n",
       "\n",
       "    .dataframe tbody tr th {\n",
       "        vertical-align: top;\n",
       "    }\n",
       "\n",
       "    .dataframe thead th {\n",
       "        text-align: right;\n",
       "    }\n",
       "</style>\n",
       "<table border=\"1\" class=\"dataframe\">\n",
       "  <thead>\n",
       "    <tr style=\"text-align: right;\">\n",
       "      <th></th>\n",
       "      <th>Doble No Circula</th>\n",
       "    </tr>\n",
       "  </thead>\n",
       "  <tbody>\n",
       "    <tr>\n",
       "      <th>0</th>\n",
       "      <td>30/05/2024</td>\n",
       "    </tr>\n",
       "    <tr>\n",
       "      <th>1</th>\n",
       "      <td>31/05/2024</td>\n",
       "    </tr>\n",
       "    <tr>\n",
       "      <th>2</th>\n",
       "      <td>25/05/2024</td>\n",
       "    </tr>\n",
       "    <tr>\n",
       "      <th>3</th>\n",
       "      <td>26/05/2024</td>\n",
       "    </tr>\n",
       "    <tr>\n",
       "      <th>4</th>\n",
       "      <td>22/05/2024</td>\n",
       "    </tr>\n",
       "    <tr>\n",
       "      <th>...</th>\n",
       "      <td>...</td>\n",
       "    </tr>\n",
       "    <tr>\n",
       "      <th>108</th>\n",
       "      <td>15/03/2016</td>\n",
       "    </tr>\n",
       "    <tr>\n",
       "      <th>109</th>\n",
       "      <td>16/03/2016</td>\n",
       "    </tr>\n",
       "    <tr>\n",
       "      <th>110</th>\n",
       "      <td>17/03/2016</td>\n",
       "    </tr>\n",
       "    <tr>\n",
       "      <th>111</th>\n",
       "      <td>01/01/2005</td>\n",
       "    </tr>\n",
       "    <tr>\n",
       "      <th>112</th>\n",
       "      <td>02/01/2005</td>\n",
       "    </tr>\n",
       "  </tbody>\n",
       "</table>\n",
       "<p>113 rows × 1 columns</p>\n",
       "</div>"
      ],
      "text/plain": [
       "    Doble No Circula\n",
       "0         30/05/2024\n",
       "1         31/05/2024\n",
       "2         25/05/2024\n",
       "3         26/05/2024\n",
       "4         22/05/2024\n",
       "..               ...\n",
       "108       15/03/2016\n",
       "109       16/03/2016\n",
       "110       17/03/2016\n",
       "111       01/01/2005\n",
       "112       02/01/2005\n",
       "\n",
       "[113 rows x 1 columns]"
      ]
     },
     "execution_count": 165,
     "metadata": {},
     "output_type": "execute_result"
    }
   ],
   "source": [
    "df_resultado"
   ]
  },
  {
   "cell_type": "code",
   "execution_count": null,
   "id": "db3c3529",
   "metadata": {},
   "outputs": [
    {
     "name": "stdout",
     "output_type": "stream",
     "text": [
      "         date  activacion_doble_no_circula\n",
      "0  01/01/2016                            0\n",
      "1  01/01/2016                            0\n",
      "2  01/01/2016                            0\n",
      "3  01/01/2016                            0\n",
      "4  01/01/2016                            0\n"
     ]
    }
   ],
   "source": [
    "\n",
    "# Crea la columna que indica si hay activación de doble no circula\n",
    "df['activacion_doble_no_circula'] = df['date'].isin(df_resultado['Doble No Circula']).astype(int)\n",
    "\n",
    "print(df[['date', 'activacion_doble_no_circula']].head())\n"
   ]
  },
  {
   "cell_type": "code",
   "execution_count": 168,
   "id": "972a8859",
   "metadata": {},
   "outputs": [
    {
     "data": {
      "application/vnd.microsoft.datawrangler.viewer.v0+json": {
       "columns": [
        {
         "name": "index",
         "rawType": "int64",
         "type": "integer"
        },
        {
         "name": "date",
         "rawType": "object",
         "type": "string"
        },
        {
         "name": "id_parameter",
         "rawType": "object",
         "type": "string"
        },
        {
         "name": "max_contaminantes",
         "rawType": "float64",
         "type": "float"
        },
        {
         "name": "min_contaminantes",
         "rawType": "float64",
         "type": "float"
        },
        {
         "name": "mean_contaminantes",
         "rawType": "float64",
         "type": "float"
        },
        {
         "name": "activacion_doble_no_circula",
         "rawType": "int64",
         "type": "integer"
        }
       ],
       "conversionMethod": "pd.DataFrame",
       "ref": "8ea8ac7b-f9d9-4508-b85a-9eec854b88ee",
       "rows": [
        [
         "0",
         "01/01/2016",
         "CO",
         "2.5",
         "0.2",
         "0.9622685185185185",
         "0"
        ],
        [
         "1",
         "01/01/2016",
         "NO",
         "76.0",
         "0.0",
         "13.831140350877194",
         "0"
        ],
        [
         "2",
         "01/01/2016",
         "NO2",
         "63.0",
         "6.0",
         "29.712719298245613",
         "0"
        ],
        [
         "3",
         "01/01/2016",
         "NOX",
         "120.0",
         "6.0",
         "43.56798245614035",
         "0"
        ],
        [
         "4",
         "01/01/2016",
         "O3",
         "133.0",
         "1.0",
         "33.471014492753625",
         "0"
        ],
        [
         "5",
         "01/01/2016",
         "PM10",
         "511.0",
         "11.0",
         "115.33407079646018",
         "0"
        ],
        [
         "6",
         "01/01/2016",
         "PM2.5",
         "232.0",
         "2.0",
         "86.90990990990991",
         "0"
        ],
        [
         "7",
         "01/01/2016",
         "PMCO",
         "107.0",
         "8.0",
         "32.563380281690144",
         "0"
        ],
        [
         "8",
         "01/01/2016",
         "SO2",
         "117.0",
         "1.0",
         "21.11764705882353",
         "0"
        ],
        [
         "9",
         "01/01/2017",
         "CO",
         "2.8",
         "0.0",
         "0.7862776025236593",
         "0"
        ],
        [
         "10",
         "01/01/2017",
         "NO",
         "109.0",
         "0.0",
         "10.64070796460177",
         "0"
        ],
        [
         "11",
         "01/01/2017",
         "NO2",
         "65.0",
         "4.0",
         "23.246017699115043",
         "0"
        ],
        [
         "12",
         "01/01/2017",
         "NOX",
         "163.0",
         "5.0",
         "33.861946902654864",
         "0"
        ],
        [
         "13",
         "01/01/2017",
         "O3",
         "95.0",
         "1.0",
         "32.500627352572145",
         "0"
        ],
        [
         "14",
         "01/01/2017",
         "PM10",
         "445.0",
         "12.0",
         "71.89390519187359",
         "0"
        ],
        [
         "15",
         "01/01/2017",
         "PM2.5",
         "195.0",
         "1.0",
         "43.98866855524079",
         "0"
        ],
        [
         "16",
         "01/01/2017",
         "PMCO",
         "227.0",
         "3.0",
         "19.229787234042554",
         "0"
        ],
        [
         "17",
         "01/01/2017",
         "SO2",
         "15.0",
         "0.0",
         "2.3007299270072994",
         "0"
        ],
        [
         "18",
         "01/01/2018",
         "CO",
         "2.7",
         "0.0",
         "0.37554744525547445",
         "0"
        ],
        [
         "19",
         "01/01/2018",
         "NO",
         "54.0",
         "0.0",
         "4.7370517928286855",
         "0"
        ],
        [
         "20",
         "01/01/2018",
         "NO2",
         "52.0",
         "2.0",
         "18.324701195219124",
         "0"
        ],
        [
         "21",
         "01/01/2018",
         "NOX",
         "89.0",
         "3.0",
         "23.061752988047807",
         "0"
        ],
        [
         "22",
         "01/01/2018",
         "O3",
         "91.0",
         "1.0",
         "27.958204334365327",
         "0"
        ],
        [
         "23",
         "01/01/2018",
         "PM10",
         "249.0",
         "2.0",
         "62.959232613908874",
         "0"
        ],
        [
         "24",
         "01/01/2018",
         "PM2.5",
         "166.0",
         "1.0",
         "45.86834733893557",
         "0"
        ],
        [
         "25",
         "01/01/2018",
         "PMCO",
         "65.0",
         "4.0",
         "19.810126582278482",
         "0"
        ],
        [
         "26",
         "01/01/2018",
         "SO2",
         "115.0",
         "1.0",
         "15.185185185185185",
         "0"
        ],
        [
         "27",
         "01/01/2019",
         "CO",
         "3.6",
         "0.0",
         "0.6424190800681432",
         "1"
        ],
        [
         "28",
         "01/01/2019",
         "NO",
         "122.0",
         "0.0",
         "12.617142857142857",
         "1"
        ],
        [
         "29",
         "01/01/2019",
         "NO2",
         "59.0",
         "1.0",
         "22.36394557823129",
         "1"
        ],
        [
         "30",
         "01/01/2019",
         "NOX",
         "155.0",
         "3.0",
         "35.44190476190476",
         "1"
        ],
        [
         "31",
         "01/01/2019",
         "O3",
         "128.0",
         "0.0",
         "38.94038748137109",
         "1"
        ],
        [
         "32",
         "01/01/2019",
         "PM10",
         "653.0",
         "2.0",
         "95.68484848484849",
         "1"
        ],
        [
         "33",
         "01/01/2019",
         "PM2.5",
         "393.0",
         "2.0",
         "64.29426433915212",
         "1"
        ],
        [
         "34",
         "01/01/2019",
         "PMCO",
         "88.0",
         "1.0",
         "23.830985915492956",
         "1"
        ],
        [
         "35",
         "01/01/2019",
         "SO2",
         "81.0",
         "0.0",
         "4.6160409556314",
         "1"
        ],
        [
         "36",
         "01/01/2020",
         "CO",
         "2.9",
         "0.0",
         "0.42881679389312977",
         "0"
        ],
        [
         "37",
         "01/01/2020",
         "NO",
         "119.0",
         "0.0",
         "9.031578947368422",
         "0"
        ],
        [
         "38",
         "01/01/2020",
         "NO2",
         "48.0",
         "1.0",
         "13.382716049382717",
         "0"
        ],
        [
         "39",
         "01/01/2020",
         "NOX",
         "147.0",
         "1.0",
         "22.637894736842107",
         "0"
        ],
        [
         "40",
         "01/01/2020",
         "O3",
         "59.0",
         "0.0",
         "18.7748031496063",
         "0"
        ],
        [
         "41",
         "01/01/2020",
         "PM10",
         "426.0",
         "1.0",
         "63.58730158730159",
         "0"
        ],
        [
         "42",
         "01/01/2020",
         "PM2.5",
         "117.0",
         "1.0",
         "27.766037735849057",
         "0"
        ],
        [
         "43",
         "01/01/2020",
         "PMCO",
         "99.0",
         "1.0",
         "18.10135135135135",
         "0"
        ],
        [
         "44",
         "01/01/2020",
         "SO2",
         "15.0",
         "0.0",
         "2.0476190476190474",
         "0"
        ],
        [
         "45",
         "01/01/2021",
         "CO",
         "3.0",
         "0.0",
         "0.421414913957935",
         "0"
        ],
        [
         "46",
         "01/01/2021",
         "NO",
         "89.0",
         "0.0",
         "5.712962962962963",
         "0"
        ],
        [
         "47",
         "01/01/2021",
         "NO2",
         "53.0",
         "1.0",
         "16.977272727272727",
         "0"
        ],
        [
         "48",
         "01/01/2021",
         "NOX",
         "119.0",
         "2.0",
         "23.261574074074073",
         "0"
        ],
        [
         "49",
         "01/01/2021",
         "O3",
         "81.0",
         "0.0",
         "29.765494137353432",
         "0"
        ]
       ],
       "shape": {
        "columns": 6,
        "rows": 29592
       }
      },
      "text/html": [
       "<div>\n",
       "<style scoped>\n",
       "    .dataframe tbody tr th:only-of-type {\n",
       "        vertical-align: middle;\n",
       "    }\n",
       "\n",
       "    .dataframe tbody tr th {\n",
       "        vertical-align: top;\n",
       "    }\n",
       "\n",
       "    .dataframe thead th {\n",
       "        text-align: right;\n",
       "    }\n",
       "</style>\n",
       "<table border=\"1\" class=\"dataframe\">\n",
       "  <thead>\n",
       "    <tr style=\"text-align: right;\">\n",
       "      <th></th>\n",
       "      <th>date</th>\n",
       "      <th>id_parameter</th>\n",
       "      <th>max_contaminantes</th>\n",
       "      <th>min_contaminantes</th>\n",
       "      <th>mean_contaminantes</th>\n",
       "      <th>activacion_doble_no_circula</th>\n",
       "    </tr>\n",
       "  </thead>\n",
       "  <tbody>\n",
       "    <tr>\n",
       "      <th>0</th>\n",
       "      <td>01/01/2016</td>\n",
       "      <td>CO</td>\n",
       "      <td>2.5</td>\n",
       "      <td>0.2</td>\n",
       "      <td>0.962269</td>\n",
       "      <td>0</td>\n",
       "    </tr>\n",
       "    <tr>\n",
       "      <th>1</th>\n",
       "      <td>01/01/2016</td>\n",
       "      <td>NO</td>\n",
       "      <td>76.0</td>\n",
       "      <td>0.0</td>\n",
       "      <td>13.831140</td>\n",
       "      <td>0</td>\n",
       "    </tr>\n",
       "    <tr>\n",
       "      <th>2</th>\n",
       "      <td>01/01/2016</td>\n",
       "      <td>NO2</td>\n",
       "      <td>63.0</td>\n",
       "      <td>6.0</td>\n",
       "      <td>29.712719</td>\n",
       "      <td>0</td>\n",
       "    </tr>\n",
       "    <tr>\n",
       "      <th>3</th>\n",
       "      <td>01/01/2016</td>\n",
       "      <td>NOX</td>\n",
       "      <td>120.0</td>\n",
       "      <td>6.0</td>\n",
       "      <td>43.567982</td>\n",
       "      <td>0</td>\n",
       "    </tr>\n",
       "    <tr>\n",
       "      <th>4</th>\n",
       "      <td>01/01/2016</td>\n",
       "      <td>O3</td>\n",
       "      <td>133.0</td>\n",
       "      <td>1.0</td>\n",
       "      <td>33.471014</td>\n",
       "      <td>0</td>\n",
       "    </tr>\n",
       "    <tr>\n",
       "      <th>...</th>\n",
       "      <td>...</td>\n",
       "      <td>...</td>\n",
       "      <td>...</td>\n",
       "      <td>...</td>\n",
       "      <td>...</td>\n",
       "      <td>...</td>\n",
       "    </tr>\n",
       "    <tr>\n",
       "      <th>29587</th>\n",
       "      <td>31/12/2024</td>\n",
       "      <td>O3</td>\n",
       "      <td>118.0</td>\n",
       "      <td>1.0</td>\n",
       "      <td>37.928214</td>\n",
       "      <td>0</td>\n",
       "    </tr>\n",
       "    <tr>\n",
       "      <th>29588</th>\n",
       "      <td>31/12/2024</td>\n",
       "      <td>PM10</td>\n",
       "      <td>224.0</td>\n",
       "      <td>5.0</td>\n",
       "      <td>61.698413</td>\n",
       "      <td>0</td>\n",
       "    </tr>\n",
       "    <tr>\n",
       "      <th>29589</th>\n",
       "      <td>31/12/2024</td>\n",
       "      <td>PM2.5</td>\n",
       "      <td>105.0</td>\n",
       "      <td>3.0</td>\n",
       "      <td>30.035599</td>\n",
       "      <td>0</td>\n",
       "    </tr>\n",
       "    <tr>\n",
       "      <th>29590</th>\n",
       "      <td>31/12/2024</td>\n",
       "      <td>PMCO</td>\n",
       "      <td>63.0</td>\n",
       "      <td>7.0</td>\n",
       "      <td>22.487952</td>\n",
       "      <td>0</td>\n",
       "    </tr>\n",
       "    <tr>\n",
       "      <th>29591</th>\n",
       "      <td>31/12/2024</td>\n",
       "      <td>SO2</td>\n",
       "      <td>10.0</td>\n",
       "      <td>0.0</td>\n",
       "      <td>2.353053</td>\n",
       "      <td>0</td>\n",
       "    </tr>\n",
       "  </tbody>\n",
       "</table>\n",
       "<p>29592 rows × 6 columns</p>\n",
       "</div>"
      ],
      "text/plain": [
       "             date id_parameter  max_contaminantes  min_contaminantes  \\\n",
       "0      01/01/2016           CO                2.5                0.2   \n",
       "1      01/01/2016           NO               76.0                0.0   \n",
       "2      01/01/2016          NO2               63.0                6.0   \n",
       "3      01/01/2016          NOX              120.0                6.0   \n",
       "4      01/01/2016           O3              133.0                1.0   \n",
       "...           ...          ...                ...                ...   \n",
       "29587  31/12/2024           O3              118.0                1.0   \n",
       "29588  31/12/2024         PM10              224.0                5.0   \n",
       "29589  31/12/2024        PM2.5              105.0                3.0   \n",
       "29590  31/12/2024         PMCO               63.0                7.0   \n",
       "29591  31/12/2024          SO2               10.0                0.0   \n",
       "\n",
       "       mean_contaminantes  activacion_doble_no_circula  \n",
       "0                0.962269                            0  \n",
       "1               13.831140                            0  \n",
       "2               29.712719                            0  \n",
       "3               43.567982                            0  \n",
       "4               33.471014                            0  \n",
       "...                   ...                          ...  \n",
       "29587           37.928214                            0  \n",
       "29588           61.698413                            0  \n",
       "29589           30.035599                            0  \n",
       "29590           22.487952                            0  \n",
       "29591            2.353053                            0  \n",
       "\n",
       "[29592 rows x 6 columns]"
      ]
     },
     "execution_count": 168,
     "metadata": {},
     "output_type": "execute_result"
    }
   ],
   "source": [
    "df"
   ]
  },
  {
   "cell_type": "code",
   "execution_count": 172,
   "id": "c9b7a525",
   "metadata": {},
   "outputs": [
    {
     "data": {
      "application/vnd.microsoft.datawrangler.viewer.v0+json": {
       "columns": [
        {
         "name": "index",
         "rawType": "int64",
         "type": "integer"
        },
        {
         "name": "date",
         "rawType": "object",
         "type": "string"
        },
        {
         "name": "id_parameter",
         "rawType": "object",
         "type": "string"
        },
        {
         "name": "max_contaminantes",
         "rawType": "float64",
         "type": "float"
        },
        {
         "name": "min_contaminantes",
         "rawType": "float64",
         "type": "float"
        },
        {
         "name": "mean_contaminantes",
         "rawType": "float64",
         "type": "float"
        },
        {
         "name": "activacion_doble_no_circula",
         "rawType": "int64",
         "type": "integer"
        }
       ],
       "conversionMethod": "pd.DataFrame",
       "ref": "f44c9c62-70fc-46cc-a3e5-eb42ad67de57",
       "rows": [
        [
         "5094",
         "06/03/2024",
         "CO",
         "4.07",
         "0.01",
         "0.6459655172413794",
         "1"
        ],
        [
         "5095",
         "06/03/2024",
         "NO",
         "247.0",
         "0.0",
         "20.753346080305928",
         "1"
        ],
        [
         "5096",
         "06/03/2024",
         "NO2",
         "92.0",
         "5.0",
         "32.24786324786325",
         "1"
        ],
        [
         "5097",
         "06/03/2024",
         "NOX",
         "319.0",
         "6.0",
         "53.11472275334608",
         "1"
        ],
        [
         "5098",
         "06/03/2024",
         "O3",
         "179.0",
         "0.0",
         "42.55307262569833",
         "1"
        ],
        [
         "5099",
         "06/03/2024",
         "PM10",
         "208.0",
         "9.0",
         "60.603729603729604",
         "1"
        ],
        [
         "5100",
         "06/03/2024",
         "PM2.5",
         "100.0",
         "2.0",
         "23.073604060913706",
         "1"
        ],
        [
         "5101",
         "06/03/2024",
         "PMCO",
         "77.0",
         "10.0",
         "33.26353790613718",
         "1"
        ],
        [
         "5102",
         "06/03/2024",
         "SO2",
         "18.0",
         "0.0",
         "2.201694915254237",
         "1"
        ],
        [
         "7038",
         "08/03/2024",
         "CO",
         "4.07",
         "0.0",
         "0.6231034482758621",
         "0"
        ],
        [
         "7039",
         "08/03/2024",
         "NO",
         "332.0",
         "0.0",
         "27.708812260536398",
         "0"
        ],
        [
         "7040",
         "08/03/2024",
         "NO2",
         "119.0",
         "1.0",
         "30.578414839797638",
         "0"
        ],
        [
         "7041",
         "08/03/2024",
         "NOX",
         "378.0",
         "1.0",
         "57.798850574712645",
         "0"
        ],
        [
         "7042",
         "08/03/2024",
         "O3",
         "113.0",
         "0.0",
         "35.04450625869263",
         "0"
        ],
        [
         "7043",
         "08/03/2024",
         "PM10",
         "250.0",
         "3.0",
         "45.47860962566845",
         "0"
        ],
        [
         "7044",
         "08/03/2024",
         "PM2.5",
         "48.0",
         "1.0",
         "16.25",
         "0"
        ],
        [
         "7045",
         "08/03/2024",
         "PMCO",
         "101.0",
         "1.0",
         "23.060344827586206",
         "0"
        ],
        [
         "7046",
         "08/03/2024",
         "SO2",
         "16.0",
         "0.0",
         "1.3588435374149659",
         "0"
        ]
       ],
       "shape": {
        "columns": 6,
        "rows": 18
       }
      },
      "text/html": [
       "<div>\n",
       "<style scoped>\n",
       "    .dataframe tbody tr th:only-of-type {\n",
       "        vertical-align: middle;\n",
       "    }\n",
       "\n",
       "    .dataframe tbody tr th {\n",
       "        vertical-align: top;\n",
       "    }\n",
       "\n",
       "    .dataframe thead th {\n",
       "        text-align: right;\n",
       "    }\n",
       "</style>\n",
       "<table border=\"1\" class=\"dataframe\">\n",
       "  <thead>\n",
       "    <tr style=\"text-align: right;\">\n",
       "      <th></th>\n",
       "      <th>date</th>\n",
       "      <th>id_parameter</th>\n",
       "      <th>max_contaminantes</th>\n",
       "      <th>min_contaminantes</th>\n",
       "      <th>mean_contaminantes</th>\n",
       "      <th>activacion_doble_no_circula</th>\n",
       "    </tr>\n",
       "  </thead>\n",
       "  <tbody>\n",
       "    <tr>\n",
       "      <th>5094</th>\n",
       "      <td>06/03/2024</td>\n",
       "      <td>CO</td>\n",
       "      <td>4.07</td>\n",
       "      <td>0.01</td>\n",
       "      <td>0.645966</td>\n",
       "      <td>1</td>\n",
       "    </tr>\n",
       "    <tr>\n",
       "      <th>5095</th>\n",
       "      <td>06/03/2024</td>\n",
       "      <td>NO</td>\n",
       "      <td>247.00</td>\n",
       "      <td>0.00</td>\n",
       "      <td>20.753346</td>\n",
       "      <td>1</td>\n",
       "    </tr>\n",
       "    <tr>\n",
       "      <th>5096</th>\n",
       "      <td>06/03/2024</td>\n",
       "      <td>NO2</td>\n",
       "      <td>92.00</td>\n",
       "      <td>5.00</td>\n",
       "      <td>32.247863</td>\n",
       "      <td>1</td>\n",
       "    </tr>\n",
       "    <tr>\n",
       "      <th>5097</th>\n",
       "      <td>06/03/2024</td>\n",
       "      <td>NOX</td>\n",
       "      <td>319.00</td>\n",
       "      <td>6.00</td>\n",
       "      <td>53.114723</td>\n",
       "      <td>1</td>\n",
       "    </tr>\n",
       "    <tr>\n",
       "      <th>5098</th>\n",
       "      <td>06/03/2024</td>\n",
       "      <td>O3</td>\n",
       "      <td>179.00</td>\n",
       "      <td>0.00</td>\n",
       "      <td>42.553073</td>\n",
       "      <td>1</td>\n",
       "    </tr>\n",
       "    <tr>\n",
       "      <th>5099</th>\n",
       "      <td>06/03/2024</td>\n",
       "      <td>PM10</td>\n",
       "      <td>208.00</td>\n",
       "      <td>9.00</td>\n",
       "      <td>60.603730</td>\n",
       "      <td>1</td>\n",
       "    </tr>\n",
       "    <tr>\n",
       "      <th>5100</th>\n",
       "      <td>06/03/2024</td>\n",
       "      <td>PM2.5</td>\n",
       "      <td>100.00</td>\n",
       "      <td>2.00</td>\n",
       "      <td>23.073604</td>\n",
       "      <td>1</td>\n",
       "    </tr>\n",
       "    <tr>\n",
       "      <th>5101</th>\n",
       "      <td>06/03/2024</td>\n",
       "      <td>PMCO</td>\n",
       "      <td>77.00</td>\n",
       "      <td>10.00</td>\n",
       "      <td>33.263538</td>\n",
       "      <td>1</td>\n",
       "    </tr>\n",
       "    <tr>\n",
       "      <th>5102</th>\n",
       "      <td>06/03/2024</td>\n",
       "      <td>SO2</td>\n",
       "      <td>18.00</td>\n",
       "      <td>0.00</td>\n",
       "      <td>2.201695</td>\n",
       "      <td>1</td>\n",
       "    </tr>\n",
       "    <tr>\n",
       "      <th>7038</th>\n",
       "      <td>08/03/2024</td>\n",
       "      <td>CO</td>\n",
       "      <td>4.07</td>\n",
       "      <td>0.00</td>\n",
       "      <td>0.623103</td>\n",
       "      <td>0</td>\n",
       "    </tr>\n",
       "    <tr>\n",
       "      <th>7039</th>\n",
       "      <td>08/03/2024</td>\n",
       "      <td>NO</td>\n",
       "      <td>332.00</td>\n",
       "      <td>0.00</td>\n",
       "      <td>27.708812</td>\n",
       "      <td>0</td>\n",
       "    </tr>\n",
       "    <tr>\n",
       "      <th>7040</th>\n",
       "      <td>08/03/2024</td>\n",
       "      <td>NO2</td>\n",
       "      <td>119.00</td>\n",
       "      <td>1.00</td>\n",
       "      <td>30.578415</td>\n",
       "      <td>0</td>\n",
       "    </tr>\n",
       "    <tr>\n",
       "      <th>7041</th>\n",
       "      <td>08/03/2024</td>\n",
       "      <td>NOX</td>\n",
       "      <td>378.00</td>\n",
       "      <td>1.00</td>\n",
       "      <td>57.798851</td>\n",
       "      <td>0</td>\n",
       "    </tr>\n",
       "    <tr>\n",
       "      <th>7042</th>\n",
       "      <td>08/03/2024</td>\n",
       "      <td>O3</td>\n",
       "      <td>113.00</td>\n",
       "      <td>0.00</td>\n",
       "      <td>35.044506</td>\n",
       "      <td>0</td>\n",
       "    </tr>\n",
       "    <tr>\n",
       "      <th>7043</th>\n",
       "      <td>08/03/2024</td>\n",
       "      <td>PM10</td>\n",
       "      <td>250.00</td>\n",
       "      <td>3.00</td>\n",
       "      <td>45.478610</td>\n",
       "      <td>0</td>\n",
       "    </tr>\n",
       "    <tr>\n",
       "      <th>7044</th>\n",
       "      <td>08/03/2024</td>\n",
       "      <td>PM2.5</td>\n",
       "      <td>48.00</td>\n",
       "      <td>1.00</td>\n",
       "      <td>16.250000</td>\n",
       "      <td>0</td>\n",
       "    </tr>\n",
       "    <tr>\n",
       "      <th>7045</th>\n",
       "      <td>08/03/2024</td>\n",
       "      <td>PMCO</td>\n",
       "      <td>101.00</td>\n",
       "      <td>1.00</td>\n",
       "      <td>23.060345</td>\n",
       "      <td>0</td>\n",
       "    </tr>\n",
       "    <tr>\n",
       "      <th>7046</th>\n",
       "      <td>08/03/2024</td>\n",
       "      <td>SO2</td>\n",
       "      <td>16.00</td>\n",
       "      <td>0.00</td>\n",
       "      <td>1.358844</td>\n",
       "      <td>0</td>\n",
       "    </tr>\n",
       "  </tbody>\n",
       "</table>\n",
       "</div>"
      ],
      "text/plain": [
       "            date id_parameter  max_contaminantes  min_contaminantes  \\\n",
       "5094  06/03/2024           CO               4.07               0.01   \n",
       "5095  06/03/2024           NO             247.00               0.00   \n",
       "5096  06/03/2024          NO2              92.00               5.00   \n",
       "5097  06/03/2024          NOX             319.00               6.00   \n",
       "5098  06/03/2024           O3             179.00               0.00   \n",
       "5099  06/03/2024         PM10             208.00               9.00   \n",
       "5100  06/03/2024        PM2.5             100.00               2.00   \n",
       "5101  06/03/2024         PMCO              77.00              10.00   \n",
       "5102  06/03/2024          SO2              18.00               0.00   \n",
       "7038  08/03/2024           CO               4.07               0.00   \n",
       "7039  08/03/2024           NO             332.00               0.00   \n",
       "7040  08/03/2024          NO2             119.00               1.00   \n",
       "7041  08/03/2024          NOX             378.00               1.00   \n",
       "7042  08/03/2024           O3             113.00               0.00   \n",
       "7043  08/03/2024         PM10             250.00               3.00   \n",
       "7044  08/03/2024        PM2.5              48.00               1.00   \n",
       "7045  08/03/2024         PMCO             101.00               1.00   \n",
       "7046  08/03/2024          SO2              16.00               0.00   \n",
       "\n",
       "      mean_contaminantes  activacion_doble_no_circula  \n",
       "5094            0.645966                            1  \n",
       "5095           20.753346                            1  \n",
       "5096           32.247863                            1  \n",
       "5097           53.114723                            1  \n",
       "5098           42.553073                            1  \n",
       "5099           60.603730                            1  \n",
       "5100           23.073604                            1  \n",
       "5101           33.263538                            1  \n",
       "5102            2.201695                            1  \n",
       "7038            0.623103                            0  \n",
       "7039           27.708812                            0  \n",
       "7040           30.578415                            0  \n",
       "7041           57.798851                            0  \n",
       "7042           35.044506                            0  \n",
       "7043           45.478610                            0  \n",
       "7044           16.250000                            0  \n",
       "7045           23.060345                            0  \n",
       "7046            1.358844                            0  "
      ]
     },
     "execution_count": 172,
     "metadata": {},
     "output_type": "execute_result"
    }
   ],
   "source": [
    "df[(df['date']== '06/03/2024') | (df['date']== '08/03/2024')]"
   ]
  },
  {
   "cell_type": "code",
   "execution_count": 173,
   "id": "5937f8a4",
   "metadata": {},
   "outputs": [],
   "source": [
    "df_final_met['activacion_doble_no_circula'] = df_final_met['date'].isin(df_resultado['Doble No Circula']).astype(int)"
   ]
  },
  {
   "cell_type": "code",
   "execution_count": 174,
   "id": "901a54df",
   "metadata": {},
   "outputs": [
    {
     "data": {
      "application/vnd.microsoft.datawrangler.viewer.v0+json": {
       "columns": [
        {
         "name": "index",
         "rawType": "int64",
         "type": "integer"
        },
        {
         "name": "date",
         "rawType": "object",
         "type": "string"
        },
        {
         "name": "id_parameter",
         "rawType": "object",
         "type": "string"
        },
        {
         "name": "max_meteorologia",
         "rawType": "float64",
         "type": "float"
        },
        {
         "name": "min_meteorologia",
         "rawType": "float64",
         "type": "float"
        },
        {
         "name": "mean_meteorologia",
         "rawType": "float64",
         "type": "float"
        },
        {
         "name": "activacion_doble_no_circula",
         "rawType": "int64",
         "type": "integer"
        }
       ],
       "conversionMethod": "pd.DataFrame",
       "ref": "f8e79474-b101-4d19-a8aa-08c9d89b79b2",
       "rows": [
        [
         "2709",
         "06/03/2024",
         "RH",
         "90.0",
         "11.0",
         "31.446188340807176",
         "1"
        ],
        [
         "2710",
         "06/03/2024",
         "TMP",
         "30.5",
         "1.2",
         "18.61152882205514",
         "1"
        ],
        [
         "2711",
         "06/03/2024",
         "WDR",
         "360.0",
         "0.0",
         "147.8804347826087",
         "1"
        ],
        [
         "2712",
         "06/03/2024",
         "WSP",
         "15.4",
         "0.5",
         "4.95",
         "1"
        ],
        [
         "3741",
         "08/03/2024",
         "RH",
         "69.0",
         "1.0",
         "17.104545454545455",
         "0"
        ],
        [
         "3742",
         "08/03/2024",
         "TMP",
         "33.6",
         "1.9",
         "20.389876543209876",
         "0"
        ],
        [
         "3743",
         "08/03/2024",
         "WDR",
         "360.0",
         "0.0",
         "184.35",
         "0"
        ],
        [
         "3744",
         "08/03/2024",
         "WSP",
         "15.9",
         "0.5",
         "4.873055555555555",
         "0"
        ]
       ],
       "shape": {
        "columns": 6,
        "rows": 8
       }
      },
      "text/html": [
       "<div>\n",
       "<style scoped>\n",
       "    .dataframe tbody tr th:only-of-type {\n",
       "        vertical-align: middle;\n",
       "    }\n",
       "\n",
       "    .dataframe tbody tr th {\n",
       "        vertical-align: top;\n",
       "    }\n",
       "\n",
       "    .dataframe thead th {\n",
       "        text-align: right;\n",
       "    }\n",
       "</style>\n",
       "<table border=\"1\" class=\"dataframe\">\n",
       "  <thead>\n",
       "    <tr style=\"text-align: right;\">\n",
       "      <th></th>\n",
       "      <th>date</th>\n",
       "      <th>id_parameter</th>\n",
       "      <th>max_meteorologia</th>\n",
       "      <th>min_meteorologia</th>\n",
       "      <th>mean_meteorologia</th>\n",
       "      <th>activacion_doble_no_circula</th>\n",
       "    </tr>\n",
       "  </thead>\n",
       "  <tbody>\n",
       "    <tr>\n",
       "      <th>2709</th>\n",
       "      <td>06/03/2024</td>\n",
       "      <td>RH</td>\n",
       "      <td>90.0</td>\n",
       "      <td>11.0</td>\n",
       "      <td>31.446188</td>\n",
       "      <td>1</td>\n",
       "    </tr>\n",
       "    <tr>\n",
       "      <th>2710</th>\n",
       "      <td>06/03/2024</td>\n",
       "      <td>TMP</td>\n",
       "      <td>30.5</td>\n",
       "      <td>1.2</td>\n",
       "      <td>18.611529</td>\n",
       "      <td>1</td>\n",
       "    </tr>\n",
       "    <tr>\n",
       "      <th>2711</th>\n",
       "      <td>06/03/2024</td>\n",
       "      <td>WDR</td>\n",
       "      <td>360.0</td>\n",
       "      <td>0.0</td>\n",
       "      <td>147.880435</td>\n",
       "      <td>1</td>\n",
       "    </tr>\n",
       "    <tr>\n",
       "      <th>2712</th>\n",
       "      <td>06/03/2024</td>\n",
       "      <td>WSP</td>\n",
       "      <td>15.4</td>\n",
       "      <td>0.5</td>\n",
       "      <td>4.950000</td>\n",
       "      <td>1</td>\n",
       "    </tr>\n",
       "    <tr>\n",
       "      <th>3741</th>\n",
       "      <td>08/03/2024</td>\n",
       "      <td>RH</td>\n",
       "      <td>69.0</td>\n",
       "      <td>1.0</td>\n",
       "      <td>17.104545</td>\n",
       "      <td>0</td>\n",
       "    </tr>\n",
       "    <tr>\n",
       "      <th>3742</th>\n",
       "      <td>08/03/2024</td>\n",
       "      <td>TMP</td>\n",
       "      <td>33.6</td>\n",
       "      <td>1.9</td>\n",
       "      <td>20.389877</td>\n",
       "      <td>0</td>\n",
       "    </tr>\n",
       "    <tr>\n",
       "      <th>3743</th>\n",
       "      <td>08/03/2024</td>\n",
       "      <td>WDR</td>\n",
       "      <td>360.0</td>\n",
       "      <td>0.0</td>\n",
       "      <td>184.350000</td>\n",
       "      <td>0</td>\n",
       "    </tr>\n",
       "    <tr>\n",
       "      <th>3744</th>\n",
       "      <td>08/03/2024</td>\n",
       "      <td>WSP</td>\n",
       "      <td>15.9</td>\n",
       "      <td>0.5</td>\n",
       "      <td>4.873056</td>\n",
       "      <td>0</td>\n",
       "    </tr>\n",
       "  </tbody>\n",
       "</table>\n",
       "</div>"
      ],
      "text/plain": [
       "            date id_parameter  max_meteorologia  min_meteorologia  \\\n",
       "2709  06/03/2024           RH              90.0              11.0   \n",
       "2710  06/03/2024          TMP              30.5               1.2   \n",
       "2711  06/03/2024          WDR             360.0               0.0   \n",
       "2712  06/03/2024          WSP              15.4               0.5   \n",
       "3741  08/03/2024           RH              69.0               1.0   \n",
       "3742  08/03/2024          TMP              33.6               1.9   \n",
       "3743  08/03/2024          WDR             360.0               0.0   \n",
       "3744  08/03/2024          WSP              15.9               0.5   \n",
       "\n",
       "      mean_meteorologia  activacion_doble_no_circula  \n",
       "2709          31.446188                            1  \n",
       "2710          18.611529                            1  \n",
       "2711         147.880435                            1  \n",
       "2712           4.950000                            1  \n",
       "3741          17.104545                            0  \n",
       "3742          20.389877                            0  \n",
       "3743         184.350000                            0  \n",
       "3744           4.873056                            0  "
      ]
     },
     "execution_count": 174,
     "metadata": {},
     "output_type": "execute_result"
    }
   ],
   "source": [
    "df_final_met[(df_final_met['date']== '06/03/2024') | (df_final_met['date']== '08/03/2024')]"
   ]
  },
  {
   "cell_type": "code",
   "execution_count": 175,
   "id": "ed8ca157",
   "metadata": {},
   "outputs": [],
   "source": [
    "##mandar los df a /Users/santiagoolvera/Desktop/ITAM/pols_pub2/HoyNoCircula/Datos/final\n",
    "\n",
    "df.to_csv('/Users/santiagoolvera/Desktop/ITAM/pols_pub2/HoyNoCircula/Datos/final/contaminantes.csv', index=False, encoding='latin-1')\n",
    "df_final_met.to_csv('/Users/santiagoolvera/Desktop/ITAM/pols_pub2/HoyNoCircula/Datos/final/meteorologia.csv', index=False, encoding='latin-1')\n",
    "\n"
   ]
  },
  {
   "cell_type": "code",
   "execution_count": null,
   "id": "483492cb",
   "metadata": {},
   "outputs": [],
   "source": []
  }
 ],
 "metadata": {
  "kernelspec": {
   "display_name": "base",
   "language": "python",
   "name": "python3"
  },
  "language_info": {
   "codemirror_mode": {
    "name": "ipython",
    "version": 3
   },
   "file_extension": ".py",
   "mimetype": "text/x-python",
   "name": "python",
   "nbconvert_exporter": "python",
   "pygments_lexer": "ipython3",
   "version": "3.11.4"
  }
 },
 "nbformat": 4,
 "nbformat_minor": 5
}
